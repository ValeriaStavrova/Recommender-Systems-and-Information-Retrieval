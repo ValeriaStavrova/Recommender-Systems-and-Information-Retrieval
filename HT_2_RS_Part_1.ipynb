{
  "nbformat": 4,
  "nbformat_minor": 0,
  "metadata": {
    "colab": {
      "name": "HT 2 RS Part 1",
      "provenance": [],
      "collapsed_sections": []
    },
    "kernelspec": {
      "name": "python3",
      "display_name": "Python 3"
    }
  },
  "cells": [
    {
      "cell_type": "markdown",
      "metadata": {
        "id": "kT1WbqutRlTw"
      },
      "source": [
        "**Задание 1.**\n",
        "\n",
        "Будем делать рекомендации не всем и сразу, а конкретному пользователю.\n",
        "\n",
        "\n",
        "1. Возьмём все оценки, которые поставил пользователь  U \n",
        "2. По фильмам  MU , которые он оценил, получим всех пользователей, которые ставили этим фильмам оценки.\n",
        "3. Скорее всего и на этом этапе список получится большим (для случайного пользователя у меня получилось 1.7 миллионов строк). Например, оставить только пользователей, у которых много общих фильмов.\n",
        "4. Для каждого пользователя посчитаем похожесть (например, корреляцию).\n",
        "5. Отсортируем пользователей по похожести.\n",
        "6. Оставим только  k  самых похожих пользователей.\n",
        "7. Оценить качество этой рекомендации. Идея тут такая: разделить исходные данные на train и test. Получить предсказания на train и проверить их на test.\n",
        "\n"
      ]
    },
    {
      "cell_type": "code",
      "metadata": {
        "id": "3mUhZFmmRZ1S"
      },
      "source": [
        "import numpy as np \n",
        "import pandas as pd \n",
        "\n",
        "import warnings\n",
        "warnings.filterwarnings(\"ignore\")"
      ],
      "execution_count": null,
      "outputs": []
    },
    {
      "cell_type": "code",
      "metadata": {
        "id": "NHi-44eaR_dV",
        "colab": {
          "base_uri": "https://localhost:8080/"
        },
        "outputId": "c4b78050-95bb-44ab-a5f1-87672d21d02d"
      },
      "source": [
        "!pip install PyDrive"
      ],
      "execution_count": null,
      "outputs": [
        {
          "output_type": "stream",
          "text": [
            "Requirement already satisfied: PyDrive in /usr/local/lib/python3.6/dist-packages (1.3.1)\n",
            "Requirement already satisfied: google-api-python-client>=1.2 in /usr/local/lib/python3.6/dist-packages (from PyDrive) (1.7.12)\n",
            "Requirement already satisfied: oauth2client>=4.0.0 in /usr/local/lib/python3.6/dist-packages (from PyDrive) (4.1.3)\n",
            "Requirement already satisfied: PyYAML>=3.0 in /usr/local/lib/python3.6/dist-packages (from PyDrive) (3.13)\n",
            "Requirement already satisfied: google-auth-httplib2>=0.0.3 in /usr/local/lib/python3.6/dist-packages (from google-api-python-client>=1.2->PyDrive) (0.0.4)\n",
            "Requirement already satisfied: google-auth>=1.4.1 in /usr/local/lib/python3.6/dist-packages (from google-api-python-client>=1.2->PyDrive) (1.17.2)\n",
            "Requirement already satisfied: uritemplate<4dev,>=3.0.0 in /usr/local/lib/python3.6/dist-packages (from google-api-python-client>=1.2->PyDrive) (3.0.1)\n",
            "Requirement already satisfied: six<2dev,>=1.6.1 in /usr/local/lib/python3.6/dist-packages (from google-api-python-client>=1.2->PyDrive) (1.15.0)\n",
            "Requirement already satisfied: httplib2<1dev,>=0.17.0 in /usr/local/lib/python3.6/dist-packages (from google-api-python-client>=1.2->PyDrive) (0.17.4)\n",
            "Requirement already satisfied: pyasn1-modules>=0.0.5 in /usr/local/lib/python3.6/dist-packages (from oauth2client>=4.0.0->PyDrive) (0.2.8)\n",
            "Requirement already satisfied: pyasn1>=0.1.7 in /usr/local/lib/python3.6/dist-packages (from oauth2client>=4.0.0->PyDrive) (0.4.8)\n",
            "Requirement already satisfied: rsa>=3.1.4 in /usr/local/lib/python3.6/dist-packages (from oauth2client>=4.0.0->PyDrive) (4.6)\n",
            "Requirement already satisfied: setuptools>=40.3.0 in /usr/local/lib/python3.6/dist-packages (from google-auth>=1.4.1->google-api-python-client>=1.2->PyDrive) (50.3.2)\n",
            "Requirement already satisfied: cachetools<5.0,>=2.0.0 in /usr/local/lib/python3.6/dist-packages (from google-auth>=1.4.1->google-api-python-client>=1.2->PyDrive) (4.1.1)\n"
          ],
          "name": "stdout"
        }
      ]
    },
    {
      "cell_type": "code",
      "metadata": {
        "id": "yxGBUc9SSWsx"
      },
      "source": [
        "from google.colab import auth\n",
        "from pydrive.auth import GoogleAuth\n",
        "from oauth2client.client import GoogleCredentials\n",
        "from pydrive.drive import GoogleDrive\n",
        "\n",
        "auth.authenticate_user()\n",
        "gauth = GoogleAuth()\n",
        "gauth.credentials = GoogleCredentials.get_application_default()\n",
        "drive = GoogleDrive(gauth)"
      ],
      "execution_count": null,
      "outputs": []
    },
    {
      "cell_type": "code",
      "metadata": {
        "id": "HQQRf9R5SdFz"
      },
      "source": [
        "downloaded = drive.CreateFile({'id':\"1dGbV43VYV8yzHeZHxvIsVIGYzyzukjWd\"}) \n",
        "downloaded.GetContentFile('ratings.csv')\n",
        "rating=pd.read_csv('ratings.csv')"
      ],
      "execution_count": null,
      "outputs": []
    },
    {
      "cell_type": "code",
      "metadata": {
        "id": "iuQ5bVAVTG3W"
      },
      "source": [
        "downloaded = drive.CreateFile({'id':\"1W0L7Vr02vT5PSGWGMk4BLtSrg-aFaP75\"}) \n",
        "downloaded.GetContentFile('movies.csv')\n",
        "movies=pd.read_csv('movies.csv')"
      ],
      "execution_count": null,
      "outputs": []
    },
    {
      "cell_type": "code",
      "metadata": {
        "id": "iaWN1IPJTyMW"
      },
      "source": [
        "data = pd.merge(movies,rating)"
      ],
      "execution_count": null,
      "outputs": []
    },
    {
      "cell_type": "markdown",
      "metadata": {
        "id": "8ivnfCcJUCju"
      },
      "source": [
        "**Решение.**\n",
        "\n",
        "Выбираем случайного пользователя."
      ]
    },
    {
      "cell_type": "code",
      "metadata": {
        "id": "R6OcCK8MUHcz",
        "colab": {
          "base_uri": "https://localhost:8080/"
        },
        "outputId": "d8b04f18-7740-4436-b0fd-1278743f4b62"
      },
      "source": [
        "all_users = rating['userId'].value_counts()\n",
        "user = all_users.sample(1).index\n",
        "user"
      ],
      "execution_count": null,
      "outputs": [
        {
          "output_type": "execute_result",
          "data": {
            "text/plain": [
              "Int64Index([71664], dtype='int64')"
            ]
          },
          "metadata": {
            "tags": []
          },
          "execution_count": 125
        }
      ]
    },
    {
      "cell_type": "markdown",
      "metadata": {
        "id": "zMXXIpRlULlX"
      },
      "source": [
        "Получаем фильмы, которые он посмотрел."
      ]
    },
    {
      "cell_type": "code",
      "metadata": {
        "id": "v57NAoxSUNk9",
        "colab": {
          "base_uri": "https://localhost:8080/"
        },
        "outputId": "7a494b49-2196-4657-cd5d-8c5811fb7d68"
      },
      "source": [
        "user_movies = data[data.userId == user[0]]\n",
        "user_movies = user_movies.drop(['genres', 'timestamp', 'userId'], axis = 1)\n",
        "user_movies.shape"
      ],
      "execution_count": null,
      "outputs": [
        {
          "output_type": "execute_result",
          "data": {
            "text/plain": [
              "(100, 3)"
            ]
          },
          "metadata": {
            "tags": []
          },
          "execution_count": 126
        }
      ]
    },
    {
      "cell_type": "markdown",
      "metadata": {
        "id": "EsDZ-VYRfNxS"
      },
      "source": [
        "Разделим выборку этих фильмов на train и test."
      ]
    },
    {
      "cell_type": "code",
      "metadata": {
        "id": "5Lnqjv8MfJl8"
      },
      "source": [
        "from sklearn.model_selection import train_test_split\n",
        "\n",
        "user_movies_train, user_movies_test = train_test_split(user_movies, test_size=0.33, random_state=42)"
      ],
      "execution_count": null,
      "outputs": []
    },
    {
      "cell_type": "code",
      "metadata": {
        "id": "sGV4tdKcg2u_",
        "colab": {
          "base_uri": "https://localhost:8080/"
        },
        "outputId": "c2bf91c2-1df1-4db4-e7fc-175c4ed5fa7a"
      },
      "source": [
        "user_movies_train.shape"
      ],
      "execution_count": null,
      "outputs": [
        {
          "output_type": "execute_result",
          "data": {
            "text/plain": [
              "(67, 3)"
            ]
          },
          "metadata": {
            "tags": []
          },
          "execution_count": 128
        }
      ]
    },
    {
      "cell_type": "markdown",
      "metadata": {
        "id": "YbErko4xUfPw"
      },
      "source": [
        "Теперь найдем пользователей, которые смотрели эти фильмы."
      ]
    },
    {
      "cell_type": "code",
      "metadata": {
        "id": "NKsRyuVDUht6"
      },
      "source": [
        "new_data = data[data.movieId.isin(user_movies_train.movieId)]\n",
        "new_data = new_data.drop(['genres', 'timestamp'], axis = 1)"
      ],
      "execution_count": null,
      "outputs": []
    },
    {
      "cell_type": "code",
      "metadata": {
        "id": "MmtGfRSKVrQw",
        "colab": {
          "base_uri": "https://localhost:8080/"
        },
        "outputId": "4ded25ab-2dc0-4856-b4ad-b878d575d192"
      },
      "source": [
        "users_group = new_data.groupby(['userId'])\n",
        "sorted_users_group = sorted(users_group,  key=lambda x: len(x[1]), reverse=True)\n",
        "\n",
        "len(sorted_users_group)"
      ],
      "execution_count": null,
      "outputs": [
        {
          "output_type": "execute_result",
          "data": {
            "text/plain": [
              "147887"
            ]
          },
          "metadata": {
            "tags": []
          },
          "execution_count": 130
        }
      ]
    },
    {
      "cell_type": "code",
      "metadata": {
        "id": "kda1IDu5oI6z"
      },
      "source": [
        "sorted_users_group = sorted_users_group[:50000]"
      ],
      "execution_count": null,
      "outputs": []
    },
    {
      "cell_type": "markdown",
      "metadata": {
        "id": "HtYNLZ_LW6vf"
      },
      "source": [
        "Далее нужно пройтись по всем пользователям и отсортировать их по похожести и оставить  k  самых похожих."
      ]
    },
    {
      "cell_type": "code",
      "metadata": {
        "id": "dDsXkHd0Vy2d"
      },
      "source": [
        "from scipy.stats import pearsonr"
      ],
      "execution_count": null,
      "outputs": []
    },
    {
      "cell_type": "code",
      "metadata": {
        "id": "2TbxuCT6XAej"
      },
      "source": [
        "pearsonCorDict = {}\n",
        "for i in range(len(sorted_users_group)):\n",
        "  person2 = users_group.get_group(sorted_users_group[i][0]).sort_values(by='movieId')\n",
        "  temp = user_movies[user_movies['movieId'].isin(users_group.get_group(sorted_users_group[i][0])['movieId'])]\n",
        "  person1 = temp.sort_values(by='movieId')\n",
        "  if pearsonr(person1.rating, person2.rating)[0] >= 0.65: # оставляем только пользователей с корреляцией выше 0.65\n",
        "    pearsonCorDict[i] = pearsonr(person1.rating, person2.rating)[0]"
      ],
      "execution_count": null,
      "outputs": []
    },
    {
      "cell_type": "code",
      "metadata": {
        "id": "64mRuvt0afJM"
      },
      "source": [
        "pearsonDF = pd.DataFrame.from_dict(pearsonCorDict, orient='index')\n",
        "pearsonDF.columns = ['similarityIndex']\n",
        "pearsonDF['userId'] = pearsonDF.index\n",
        "pearsonDF.index = range(len(pearsonDF))"
      ],
      "execution_count": null,
      "outputs": []
    },
    {
      "cell_type": "code",
      "metadata": {
        "id": "m38w_dQQalEM",
        "colab": {
          "base_uri": "https://localhost:8080/",
          "height": 406
        },
        "outputId": "5339a1cd-dafe-43d2-b414-9c29686a0d58"
      },
      "source": [
        "topUsers=pearsonDF.sort_values(by='similarityIndex', ascending=False)\n",
        "topUsers"
      ],
      "execution_count": null,
      "outputs": [
        {
          "output_type": "execute_result",
          "data": {
            "text/html": [
              "<div>\n",
              "<style scoped>\n",
              "    .dataframe tbody tr th:only-of-type {\n",
              "        vertical-align: middle;\n",
              "    }\n",
              "\n",
              "    .dataframe tbody tr th {\n",
              "        vertical-align: top;\n",
              "    }\n",
              "\n",
              "    .dataframe thead th {\n",
              "        text-align: right;\n",
              "    }\n",
              "</style>\n",
              "<table border=\"1\" class=\"dataframe\">\n",
              "  <thead>\n",
              "    <tr style=\"text-align: right;\">\n",
              "      <th></th>\n",
              "      <th>similarityIndex</th>\n",
              "      <th>userId</th>\n",
              "    </tr>\n",
              "  </thead>\n",
              "  <tbody>\n",
              "    <tr>\n",
              "      <th>0</th>\n",
              "      <td>1.000000</td>\n",
              "      <td>0</td>\n",
              "    </tr>\n",
              "    <tr>\n",
              "      <th>1627</th>\n",
              "      <td>0.954721</td>\n",
              "      <td>46636</td>\n",
              "    </tr>\n",
              "    <tr>\n",
              "      <th>1735</th>\n",
              "      <td>0.947204</td>\n",
              "      <td>47932</td>\n",
              "    </tr>\n",
              "    <tr>\n",
              "      <th>1349</th>\n",
              "      <td>0.943005</td>\n",
              "      <td>43116</td>\n",
              "    </tr>\n",
              "    <tr>\n",
              "      <th>1222</th>\n",
              "      <td>0.924211</td>\n",
              "      <td>41389</td>\n",
              "    </tr>\n",
              "    <tr>\n",
              "      <th>...</th>\n",
              "      <td>...</td>\n",
              "      <td>...</td>\n",
              "    </tr>\n",
              "    <tr>\n",
              "      <th>301</th>\n",
              "      <td>0.650110</td>\n",
              "      <td>19529</td>\n",
              "    </tr>\n",
              "    <tr>\n",
              "      <th>684</th>\n",
              "      <td>0.650109</td>\n",
              "      <td>31432</td>\n",
              "    </tr>\n",
              "    <tr>\n",
              "      <th>1879</th>\n",
              "      <td>0.650084</td>\n",
              "      <td>49541</td>\n",
              "    </tr>\n",
              "    <tr>\n",
              "      <th>780</th>\n",
              "      <td>0.650006</td>\n",
              "      <td>33675</td>\n",
              "    </tr>\n",
              "    <tr>\n",
              "      <th>1834</th>\n",
              "      <td>0.650000</td>\n",
              "      <td>49145</td>\n",
              "    </tr>\n",
              "  </tbody>\n",
              "</table>\n",
              "<p>1906 rows × 2 columns</p>\n",
              "</div>"
            ],
            "text/plain": [
              "      similarityIndex  userId\n",
              "0            1.000000       0\n",
              "1627         0.954721   46636\n",
              "1735         0.947204   47932\n",
              "1349         0.943005   43116\n",
              "1222         0.924211   41389\n",
              "...               ...     ...\n",
              "301          0.650110   19529\n",
              "684          0.650109   31432\n",
              "1879         0.650084   49541\n",
              "780          0.650006   33675\n",
              "1834         0.650000   49145\n",
              "\n",
              "[1906 rows x 2 columns]"
            ]
          },
          "metadata": {
            "tags": []
          },
          "execution_count": 138
        }
      ]
    },
    {
      "cell_type": "markdown",
      "metadata": {
        "id": "LFzlOJ-HdZ62"
      },
      "source": [
        "Теперь у нас есть похожие пользователи. Получим оценки, которые они ставили за все фильмы."
      ]
    },
    {
      "cell_type": "code",
      "metadata": {
        "id": "IKUUoYMXdbRO",
        "colab": {
          "base_uri": "https://localhost:8080/",
          "height": 347
        },
        "outputId": "fc74f18a-eaeb-4b02-ee8f-ac559e8e2672"
      },
      "source": [
        "topUsersRating=topUsers.merge(data, left_on='userId', right_on='userId', how='inner')\n",
        "topUsersRating.sample(10)"
      ],
      "execution_count": null,
      "outputs": [
        {
          "output_type": "execute_result",
          "data": {
            "text/html": [
              "<div>\n",
              "<style scoped>\n",
              "    .dataframe tbody tr th:only-of-type {\n",
              "        vertical-align: middle;\n",
              "    }\n",
              "\n",
              "    .dataframe tbody tr th {\n",
              "        vertical-align: top;\n",
              "    }\n",
              "\n",
              "    .dataframe thead th {\n",
              "        text-align: right;\n",
              "    }\n",
              "</style>\n",
              "<table border=\"1\" class=\"dataframe\">\n",
              "  <thead>\n",
              "    <tr style=\"text-align: right;\">\n",
              "      <th></th>\n",
              "      <th>similarityIndex</th>\n",
              "      <th>userId</th>\n",
              "      <th>movieId</th>\n",
              "      <th>title</th>\n",
              "      <th>genres</th>\n",
              "      <th>rating</th>\n",
              "      <th>timestamp</th>\n",
              "    </tr>\n",
              "  </thead>\n",
              "  <tbody>\n",
              "    <tr>\n",
              "      <th>300941</th>\n",
              "      <td>0.650959</td>\n",
              "      <td>28367</td>\n",
              "      <td>315</td>\n",
              "      <td>Specialist, The (1994)</td>\n",
              "      <td>Action|Drama|Thriller</td>\n",
              "      <td>4.0</td>\n",
              "      <td>843166893</td>\n",
              "    </tr>\n",
              "    <tr>\n",
              "      <th>72020</th>\n",
              "      <td>0.758735</td>\n",
              "      <td>37505</td>\n",
              "      <td>43928</td>\n",
              "      <td>Ultraviolet (2006)</td>\n",
              "      <td>Action|Fantasy|Sci-Fi|Thriller</td>\n",
              "      <td>3.5</td>\n",
              "      <td>1540199622</td>\n",
              "    </tr>\n",
              "    <tr>\n",
              "      <th>153211</th>\n",
              "      <td>0.704484</td>\n",
              "      <td>26932</td>\n",
              "      <td>437</td>\n",
              "      <td>Cops and Robbersons (1994)</td>\n",
              "      <td>Comedy</td>\n",
              "      <td>3.0</td>\n",
              "      <td>837602563</td>\n",
              "    </tr>\n",
              "    <tr>\n",
              "      <th>124922</th>\n",
              "      <td>0.718657</td>\n",
              "      <td>48539</td>\n",
              "      <td>4015</td>\n",
              "      <td>Dude, Where's My Car? (2000)</td>\n",
              "      <td>Comedy|Sci-Fi</td>\n",
              "      <td>2.0</td>\n",
              "      <td>1045857900</td>\n",
              "    </tr>\n",
              "    <tr>\n",
              "      <th>14035</th>\n",
              "      <td>0.842701</td>\n",
              "      <td>49384</td>\n",
              "      <td>4489</td>\n",
              "      <td>Coming to America (1988)</td>\n",
              "      <td>Comedy|Romance</td>\n",
              "      <td>2.5</td>\n",
              "      <td>1483223024</td>\n",
              "    </tr>\n",
              "    <tr>\n",
              "      <th>221501</th>\n",
              "      <td>0.675129</td>\n",
              "      <td>35327</td>\n",
              "      <td>1587</td>\n",
              "      <td>Conan the Barbarian (1982)</td>\n",
              "      <td>Action|Adventure|Fantasy</td>\n",
              "      <td>3.5</td>\n",
              "      <td>1487164900</td>\n",
              "    </tr>\n",
              "    <tr>\n",
              "      <th>21944</th>\n",
              "      <td>0.826788</td>\n",
              "      <td>49403</td>\n",
              "      <td>103253</td>\n",
              "      <td>Elysium (2013)</td>\n",
              "      <td>Action|Drama|Sci-Fi|IMAX</td>\n",
              "      <td>1.0</td>\n",
              "      <td>1393038552</td>\n",
              "    </tr>\n",
              "    <tr>\n",
              "      <th>245583</th>\n",
              "      <td>0.667983</td>\n",
              "      <td>32691</td>\n",
              "      <td>4344</td>\n",
              "      <td>Swordfish (2001)</td>\n",
              "      <td>Action|Crime|Drama</td>\n",
              "      <td>3.0</td>\n",
              "      <td>1567141384</td>\n",
              "    </tr>\n",
              "    <tr>\n",
              "      <th>254099</th>\n",
              "      <td>0.665469</td>\n",
              "      <td>43812</td>\n",
              "      <td>51662</td>\n",
              "      <td>300 (2007)</td>\n",
              "      <td>Action|Fantasy|War|IMAX</td>\n",
              "      <td>3.0</td>\n",
              "      <td>1510167503</td>\n",
              "    </tr>\n",
              "    <tr>\n",
              "      <th>194883</th>\n",
              "      <td>0.686170</td>\n",
              "      <td>27950</td>\n",
              "      <td>1197</td>\n",
              "      <td>Princess Bride, The (1987)</td>\n",
              "      <td>Action|Adventure|Comedy|Fantasy|Romance</td>\n",
              "      <td>4.0</td>\n",
              "      <td>1353727568</td>\n",
              "    </tr>\n",
              "  </tbody>\n",
              "</table>\n",
              "</div>"
            ],
            "text/plain": [
              "        similarityIndex  userId  ...  rating   timestamp\n",
              "300941         0.650959   28367  ...     4.0   843166893\n",
              "72020          0.758735   37505  ...     3.5  1540199622\n",
              "153211         0.704484   26932  ...     3.0   837602563\n",
              "124922         0.718657   48539  ...     2.0  1045857900\n",
              "14035          0.842701   49384  ...     2.5  1483223024\n",
              "221501         0.675129   35327  ...     3.5  1487164900\n",
              "21944          0.826788   49403  ...     1.0  1393038552\n",
              "245583         0.667983   32691  ...     3.0  1567141384\n",
              "254099         0.665469   43812  ...     3.0  1510167503\n",
              "194883         0.686170   27950  ...     4.0  1353727568\n",
              "\n",
              "[10 rows x 7 columns]"
            ]
          },
          "metadata": {
            "tags": []
          },
          "execution_count": 139
        }
      ]
    },
    {
      "cell_type": "markdown",
      "metadata": {
        "id": "jWEYn5BLd3zT"
      },
      "source": [
        "Уберём лишние столбцы и получим взвешенную оценку за фильм."
      ]
    },
    {
      "cell_type": "code",
      "metadata": {
        "id": "6s5-93Nrd2x4"
      },
      "source": [
        "topUsersRating = topUsersRating.drop(['genres', 'timestamp'], axis = 1)\n",
        "topUsersRating['weightedRating'] = topUsersRating['similarityIndex']*topUsersRating['rating']"
      ],
      "execution_count": null,
      "outputs": []
    },
    {
      "cell_type": "markdown",
      "metadata": {
        "id": "lTE-yL0Xd89o"
      },
      "source": [
        "\n",
        "Теперь нужно сгруппировать по фильмам и получить сумму взвешенных оценок."
      ]
    },
    {
      "cell_type": "code",
      "metadata": {
        "id": "4sYfCUVdd_hC"
      },
      "source": [
        "tempTopUsersRating = topUsersRating.groupby('movieId').sum()[['similarityIndex','weightedRating']]\n",
        "tempTopUsersRating.columns = ['sum_similarityIndex','sum_weightedRating']"
      ],
      "execution_count": null,
      "outputs": []
    },
    {
      "cell_type": "code",
      "metadata": {
        "id": "BpMcnXnTeMGp"
      },
      "source": [
        "recommendation_df = pd.DataFrame()\n",
        "recommendation_df['score'] = tempTopUsersRating['sum_weightedRating']/tempTopUsersRating['sum_similarityIndex']\n",
        "recommendation_df['movieId'] = tempTopUsersRating.index\n",
        "recommendation_df = recommendation_df.sort_values(by='score', ascending=False)"
      ],
      "execution_count": null,
      "outputs": []
    },
    {
      "cell_type": "code",
      "metadata": {
        "id": "-JV7mXxXeOTN"
      },
      "source": [
        "recommendation_df2 = recommendation_df[recommendation_df.score > 4.5]"
      ],
      "execution_count": null,
      "outputs": []
    },
    {
      "cell_type": "code",
      "metadata": {
        "id": "3pjkm6QAeQY6"
      },
      "source": [
        "recommendation_df2 = recommendation_df2.drop(['movieId'], axis = 1)"
      ],
      "execution_count": null,
      "outputs": []
    },
    {
      "cell_type": "code",
      "metadata": {
        "id": "C7-LXYK0eVWP"
      },
      "source": [
        "recommended_movies=recommendation_df2.merge(movies, how = 'inner', on = 'movieId')"
      ],
      "execution_count": null,
      "outputs": []
    },
    {
      "cell_type": "code",
      "metadata": {
        "id": "EcmhSiCneXvH",
        "colab": {
          "base_uri": "https://localhost:8080/",
          "height": 406
        },
        "outputId": "08cdf946-7670-42a7-ae64-43e28bf8cda6"
      },
      "source": [
        "recommended_movies"
      ],
      "execution_count": null,
      "outputs": [
        {
          "output_type": "execute_result",
          "data": {
            "text/html": [
              "<div>\n",
              "<style scoped>\n",
              "    .dataframe tbody tr th:only-of-type {\n",
              "        vertical-align: middle;\n",
              "    }\n",
              "\n",
              "    .dataframe tbody tr th {\n",
              "        vertical-align: top;\n",
              "    }\n",
              "\n",
              "    .dataframe thead th {\n",
              "        text-align: right;\n",
              "    }\n",
              "</style>\n",
              "<table border=\"1\" class=\"dataframe\">\n",
              "  <thead>\n",
              "    <tr style=\"text-align: right;\">\n",
              "      <th></th>\n",
              "      <th>movieId</th>\n",
              "      <th>score</th>\n",
              "      <th>title</th>\n",
              "      <th>genres</th>\n",
              "    </tr>\n",
              "  </thead>\n",
              "  <tbody>\n",
              "    <tr>\n",
              "      <th>0</th>\n",
              "      <td>159123</td>\n",
              "      <td>5.000000</td>\n",
              "      <td>Catching Out (2003)</td>\n",
              "      <td>(no genres listed)</td>\n",
              "    </tr>\n",
              "    <tr>\n",
              "      <th>1</th>\n",
              "      <td>96807</td>\n",
              "      <td>5.000000</td>\n",
              "      <td>Breathless (2012)</td>\n",
              "      <td>Thriller</td>\n",
              "    </tr>\n",
              "    <tr>\n",
              "      <th>2</th>\n",
              "      <td>7230</td>\n",
              "      <td>5.000000</td>\n",
              "      <td>Silencers, The (1966)</td>\n",
              "      <td>Action|Comedy</td>\n",
              "    </tr>\n",
              "    <tr>\n",
              "      <th>3</th>\n",
              "      <td>1075</td>\n",
              "      <td>5.000000</td>\n",
              "      <td>Sexual Life of the Belgians, The (Vie sexuelle...</td>\n",
              "      <td>Comedy|Romance</td>\n",
              "    </tr>\n",
              "    <tr>\n",
              "      <th>4</th>\n",
              "      <td>192911</td>\n",
              "      <td>5.000000</td>\n",
              "      <td>A.X.L. (2018)</td>\n",
              "      <td>Sci-Fi</td>\n",
              "    </tr>\n",
              "    <tr>\n",
              "      <th>...</th>\n",
              "      <td>...</td>\n",
              "      <td>...</td>\n",
              "      <td>...</td>\n",
              "      <td>...</td>\n",
              "    </tr>\n",
              "    <tr>\n",
              "      <th>592</th>\n",
              "      <td>180249</td>\n",
              "      <td>4.502345</td>\n",
              "      <td>No Date, No Signature (2017)</td>\n",
              "      <td>Drama</td>\n",
              "    </tr>\n",
              "    <tr>\n",
              "      <th>593</th>\n",
              "      <td>26578</td>\n",
              "      <td>4.502220</td>\n",
              "      <td>Sacrifice, The (Offret - Sacraficatio) (1986)</td>\n",
              "      <td>Drama</td>\n",
              "    </tr>\n",
              "    <tr>\n",
              "      <th>594</th>\n",
              "      <td>6031</td>\n",
              "      <td>4.501826</td>\n",
              "      <td>Imitation of Life (1959)</td>\n",
              "      <td>Drama|Romance</td>\n",
              "    </tr>\n",
              "    <tr>\n",
              "      <th>595</th>\n",
              "      <td>198185</td>\n",
              "      <td>4.500000</td>\n",
              "      <td>Twin Peaks (1989)</td>\n",
              "      <td>Drama|Mystery</td>\n",
              "    </tr>\n",
              "    <tr>\n",
              "      <th>596</th>\n",
              "      <td>40033</td>\n",
              "      <td>4.500000</td>\n",
              "      <td>Adventures of Prince Achmed, The (Abenteuer de...</td>\n",
              "      <td>Adventure|Animation|Fantasy|Romance</td>\n",
              "    </tr>\n",
              "  </tbody>\n",
              "</table>\n",
              "<p>597 rows × 4 columns</p>\n",
              "</div>"
            ],
            "text/plain": [
              "     movieId  ...                               genres\n",
              "0     159123  ...                   (no genres listed)\n",
              "1      96807  ...                             Thriller\n",
              "2       7230  ...                        Action|Comedy\n",
              "3       1075  ...                       Comedy|Romance\n",
              "4     192911  ...                               Sci-Fi\n",
              "..       ...  ...                                  ...\n",
              "592   180249  ...                                Drama\n",
              "593    26578  ...                                Drama\n",
              "594     6031  ...                        Drama|Romance\n",
              "595   198185  ...                        Drama|Mystery\n",
              "596    40033  ...  Adventure|Animation|Fantasy|Romance\n",
              "\n",
              "[597 rows x 4 columns]"
            ]
          },
          "metadata": {
            "tags": []
          },
          "execution_count": 146
        }
      ]
    },
    {
      "cell_type": "markdown",
      "metadata": {
        "id": "ty0rDqB9elOQ"
      },
      "source": [
        "Теперь нужно оценить качество этой рекомендации."
      ]
    },
    {
      "cell_type": "code",
      "metadata": {
        "id": "uQVMTZSfrN7S"
      },
      "source": [
        "recommended_movies = recommendation_df.drop(['movieId'], axis = 1)\n",
        "recommended_movies_test=recommended_movies.merge(movies, how = 'inner', on = 'movieId')"
      ],
      "execution_count": null,
      "outputs": []
    },
    {
      "cell_type": "code",
      "metadata": {
        "id": "UG-wVa4wkRgx"
      },
      "source": [
        "recommendation_test = user_movies_test.merge(recommended_movies_test, how = 'inner', on = ['title'])"
      ],
      "execution_count": null,
      "outputs": []
    },
    {
      "cell_type": "code",
      "metadata": {
        "id": "6DtUMtiglHK-",
        "colab": {
          "base_uri": "https://localhost:8080/",
          "height": 197
        },
        "outputId": "8f2b219d-5b4c-41a1-ed6a-986593f4bdfd"
      },
      "source": [
        "recommendation_test.head()"
      ],
      "execution_count": null,
      "outputs": [
        {
          "output_type": "execute_result",
          "data": {
            "text/html": [
              "<div>\n",
              "<style scoped>\n",
              "    .dataframe tbody tr th:only-of-type {\n",
              "        vertical-align: middle;\n",
              "    }\n",
              "\n",
              "    .dataframe tbody tr th {\n",
              "        vertical-align: top;\n",
              "    }\n",
              "\n",
              "    .dataframe thead th {\n",
              "        text-align: right;\n",
              "    }\n",
              "</style>\n",
              "<table border=\"1\" class=\"dataframe\">\n",
              "  <thead>\n",
              "    <tr style=\"text-align: right;\">\n",
              "      <th></th>\n",
              "      <th>movieId_x</th>\n",
              "      <th>title</th>\n",
              "      <th>rating</th>\n",
              "      <th>movieId_y</th>\n",
              "      <th>score</th>\n",
              "      <th>genres</th>\n",
              "    </tr>\n",
              "  </thead>\n",
              "  <tbody>\n",
              "    <tr>\n",
              "      <th>0</th>\n",
              "      <td>539</td>\n",
              "      <td>Sleepless in Seattle (1993)</td>\n",
              "      <td>3.0</td>\n",
              "      <td>539</td>\n",
              "      <td>3.516061</td>\n",
              "      <td>Comedy|Drama|Romance</td>\n",
              "    </tr>\n",
              "    <tr>\n",
              "      <th>1</th>\n",
              "      <td>318</td>\n",
              "      <td>Shawshank Redemption, The (1994)</td>\n",
              "      <td>5.0</td>\n",
              "      <td>318</td>\n",
              "      <td>4.429634</td>\n",
              "      <td>Crime|Drama</td>\n",
              "    </tr>\n",
              "    <tr>\n",
              "      <th>2</th>\n",
              "      <td>431</td>\n",
              "      <td>Carlito's Way (1993)</td>\n",
              "      <td>4.0</td>\n",
              "      <td>431</td>\n",
              "      <td>3.737990</td>\n",
              "      <td>Crime|Drama</td>\n",
              "    </tr>\n",
              "    <tr>\n",
              "      <th>3</th>\n",
              "      <td>277</td>\n",
              "      <td>Miracle on 34th Street (1994)</td>\n",
              "      <td>3.0</td>\n",
              "      <td>277</td>\n",
              "      <td>3.251887</td>\n",
              "      <td>Drama</td>\n",
              "    </tr>\n",
              "    <tr>\n",
              "      <th>4</th>\n",
              "      <td>267</td>\n",
              "      <td>Major Payne (1995)</td>\n",
              "      <td>3.0</td>\n",
              "      <td>267</td>\n",
              "      <td>2.959121</td>\n",
              "      <td>Comedy</td>\n",
              "    </tr>\n",
              "  </tbody>\n",
              "</table>\n",
              "</div>"
            ],
            "text/plain": [
              "   movieId_x                             title  ...     score                genres\n",
              "0        539       Sleepless in Seattle (1993)  ...  3.516061  Comedy|Drama|Romance\n",
              "1        318  Shawshank Redemption, The (1994)  ...  4.429634           Crime|Drama\n",
              "2        431              Carlito's Way (1993)  ...  3.737990           Crime|Drama\n",
              "3        277     Miracle on 34th Street (1994)  ...  3.251887                 Drama\n",
              "4        267                Major Payne (1995)  ...  2.959121                Comedy\n",
              "\n",
              "[5 rows x 6 columns]"
            ]
          },
          "metadata": {
            "tags": []
          },
          "execution_count": 149
        }
      ]
    },
    {
      "cell_type": "markdown",
      "metadata": {
        "id": "brZvq_izmS5E"
      },
      "source": [
        "Воспользуемся здесь метрикой MSE (Mean Squared Error). \n",
        "В идеальном случае, когда все ответы предсказаны точно, MSE будет равна нулю."
      ]
    },
    {
      "cell_type": "code",
      "metadata": {
        "id": "H45jCeyVmu_x"
      },
      "source": [
        "from sklearn.metrics import mean_squared_error"
      ],
      "execution_count": null,
      "outputs": []
    },
    {
      "cell_type": "code",
      "metadata": {
        "id": "sbOG0LgpmxcC",
        "colab": {
          "base_uri": "https://localhost:8080/"
        },
        "outputId": "301f593b-4f4f-4928-f89d-affd53372871"
      },
      "source": [
        "mean_squared_error(recommendation_test.rating, recommendation_test.score)"
      ],
      "execution_count": null,
      "outputs": [
        {
          "output_type": "execute_result",
          "data": {
            "text/plain": [
              "0.29058566884455067"
            ]
          },
          "metadata": {
            "tags": []
          },
          "execution_count": 151
        }
      ]
    },
    {
      "cell_type": "markdown",
      "metadata": {
        "id": "_Ku_ihJ2x_NK"
      },
      "source": [
        "Как мы видим, идея рекомендаций на основе предпочтений \"ближайших соседей\" позволяет предсказать то, как пользователь оценит рекомендованный ему фильм. \n",
        "\n",
        "Однако, точность такой оценки колеблется в зависимости от:\n",
        "\n",
        "1) Количества похожих пользователей, которых мы анализируем. Здесь мы брали всех с коэффициентом похожести от 0.65, и чем больше количество таких пользователей, тем точнее предсказание.\n",
        "\n",
        "2) Количества фильмов, просмотренных пользователей, если их слишком много или слишком мало, размер ошибки возрастает.\n",
        "\n",
        "Данные рекомендации достаточно неплохие, если анализировать ограниченную выборку фильмов, однако стоит учитывать свойства контента (теги, жанры, мб режиссеры и актеры и прочее) для того, чтобы повышать качество рекомендаций."
      ]
    }
  ]
}