{
  "nbformat": 4,
  "nbformat_minor": 0,
  "metadata": {
    "colab": {
      "name": "HT 1 recommender systems.ipynb",
      "provenance": [],
      "collapsed_sections": []
    },
    "kernelspec": {
      "name": "python3",
      "display_name": "Python 3"
    }
  },
  "cells": [
    {
      "cell_type": "markdown",
      "metadata": {
        "id": "OwyV7MrwAaVi"
      },
      "source": [
        "**Задание 1.**\n",
        "\n",
        "Мы будем работать с вложенным словарем кинокритиков и выставленных ими оценок для небольшого набора данных о фильмах.\n",
        "\n",
        "Какой здесь могла бы быть неперсонализированная рекомендация? Попробуйте написать свою реализацию неперсонализированной рекомендации."
      ]
    },
    {
      "cell_type": "code",
      "metadata": {
        "id": "zV2MEcPuAi7D"
      },
      "source": [
        "import warnings\n",
        "warnings.filterwarnings(\"ignore\")\n",
        "\n",
        "import pprint\n",
        "pp = pprint.PrettyPrinter(indent=4)"
      ],
      "execution_count": null,
      "outputs": []
    },
    {
      "cell_type": "code",
      "metadata": {
        "id": "LgYBE0MOAuZ-"
      },
      "source": [
        "# Словарь кинокритиков и выставленных ими оценок\n",
        "critics={'Lisa Rose': {'Lady in the Water': 2.5, 'Snakes on a Plane': 3.5,\n",
        " 'Just My Luck': 3.0, 'Superman Returns': 3.5, 'You, Me and Dupree': 2.5, \n",
        " 'The Night Listener': 3.0},\n",
        "'Gene Seymour': {'Lady in the Water': 3.0, 'Snakes on a Plane': 3.5, \n",
        " 'Just My Luck': 1.5, 'Superman Returns': 5.0, 'The Night Listener': 3.0, \n",
        " 'You, Me and Dupree': 3.5}, \n",
        "'Michael Phillips': {'Lady in the Water': 2.5, 'Snakes on a Plane': 3.0,\n",
        " 'Superman Returns': 3.5, 'The Night Listener': 4.0},\n",
        "'Claudia Puig': {'Snakes on a Plane': 3.5, 'Just My Luck': 3.0,\n",
        " 'The Night Listener': 4.5, 'Superman Returns': 4.0, \n",
        " 'You, Me and Dupree': 2.5},\n",
        "'Mick LaSalle': {'Lady in the Water': 3.0, 'Snakes on a Plane': 4.0, \n",
        " 'Just My Luck': 2.0, 'Superman Returns': 3.0, 'The Night Listener': 3.0,\n",
        " 'You, Me and Dupree': 2.0}, \n",
        "'Jack Matthews': {'Lady in the Water': 3.0, 'Snakes on a Plane': 4.0,\n",
        " 'The Night Listener': 3.0, 'Superman Returns': 5.0, 'You, Me and Dupree': 3.5},\n",
        "'Toby': {'Snakes on a Plane':4.5,'You, Me and Dupree':1.0,'Superman Returns':4.0}}"
      ],
      "execution_count": null,
      "outputs": []
    },
    {
      "cell_type": "markdown",
      "metadata": {
        "id": "BdHTXvvxBD81"
      },
      "source": [
        "Первой рекомендацией может быть самый популярный фильм, т.е. фильм, который имеет больше всего оценок."
      ]
    },
    {
      "cell_type": "code",
      "metadata": {
        "id": "wORmyA5EBLuL",
        "colab": {
          "base_uri": "https://localhost:8080/",
          "height": 119
        },
        "outputId": "1a5f8455-1fdd-44d6-d00c-6659d18c9c67"
      },
      "source": [
        "films = []\n",
        "\n",
        "for i in critics.keys():\n",
        "  for j in critics[i]:\n",
        "    films.append(j)\n",
        "\n",
        "count = {}\n",
        "for i in films:\n",
        "  if i not in count.keys():\n",
        "    count[i] = films.count(i)\n",
        "\n",
        "pp.pprint(sorted(count.items(), key = lambda x: x[1], reverse = True))"
      ],
      "execution_count": null,
      "outputs": [
        {
          "output_type": "stream",
          "text": [
            "[   ('Snakes on a Plane', 7),\n",
            "    ('Superman Returns', 7),\n",
            "    ('You, Me and Dupree', 6),\n",
            "    ('The Night Listener', 6),\n",
            "    ('Lady in the Water', 5),\n",
            "    ('Just My Luck', 4)]\n"
          ],
          "name": "stdout"
        }
      ]
    },
    {
      "cell_type": "markdown",
      "metadata": {
        "id": "_Z_LFA1aFGDk"
      },
      "source": [
        "Два фильма одинаково популярны: \"Snakes on a Plane\" и \"Superman Returns\"."
      ]
    },
    {
      "cell_type": "markdown",
      "metadata": {
        "id": "dkxUDT5YE6mT"
      },
      "source": [
        "Воспользуемся другим способом и порекомендуем фильм с самой высокой средней оценкой. \n"
      ]
    },
    {
      "cell_type": "code",
      "metadata": {
        "id": "wT_3ep64FAoJ",
        "colab": {
          "base_uri": "https://localhost:8080/",
          "height": 123
        },
        "outputId": "30bbb0a3-f436-48cf-8466-ec5ba06fc029"
      },
      "source": [
        "avrdict = {}\n",
        "\n",
        "for j in count.keys():\n",
        "    avr = 0\n",
        "    for i in critics.keys():  \n",
        "      if j in critics[i]:\n",
        "        avr += critics[i][j]\n",
        "        avrdict.update({j: avr})\n",
        "        \n",
        "for i in avrdict:\n",
        "  avrdict.update({i : avrdict[i]/count[i]})\n",
        "pp.pprint(sorted(avrdict.items(), key = lambda x: x[1], reverse = True))"
      ],
      "execution_count": null,
      "outputs": [
        {
          "output_type": "stream",
          "text": [
            "[   ('Superman Returns', 4.0),\n",
            "    ('Snakes on a Plane', 3.7142857142857144),\n",
            "    ('The Night Listener', 3.4166666666666665),\n",
            "    ('Lady in the Water', 2.8),\n",
            "    ('You, Me and Dupree', 2.5),\n",
            "    ('Just My Luck', 2.375)]\n"
          ],
          "name": "stdout"
        }
      ]
    },
    {
      "cell_type": "markdown",
      "metadata": {
        "id": "EQxMQVOOLJo_"
      },
      "source": [
        "Здесь самую высокую оценку набирает \"Superman Returns\", его в конечном счете и порекомендуем."
      ]
    },
    {
      "cell_type": "markdown",
      "metadata": {
        "id": "U3LQ44P1LMNq"
      },
      "source": [
        "**Задание 2.**\n",
        "\n",
        "Коллаборативная фильтрация по схожести образцов.\n",
        "\n",
        "Чтобы сравнивать образцы, нужно первым делом построить полный набор данных о похожих образцах. В первую очередь, нам нужно переделать словарь предпочтений критиков таким образом, чтобы теперь был словарь фильмов и их оценок.\n",
        "\n"
      ]
    },
    {
      "cell_type": "code",
      "metadata": {
        "id": "LsrxxhfhYM22"
      },
      "source": [
        "# обращаем матрицу предпочтений, чтобы строки соответствовали образцам\n",
        "def transformPrefs(critics_dict):\n",
        "\n",
        "    # инициилизируем новый словарь с фильмами и их оценками\n",
        "    result = {}\n",
        "\n",
        "    # для каждого критика в словаре\n",
        "    for person in critics_dict:\n",
        "\n",
        "        # для каждого оцененного им фильма\n",
        "        for item in critics_dict[person]:\n",
        "\n",
        "            # добавляем такой объект в словарь\n",
        "            result.setdefault(item, {})\n",
        "            # меняеи местами человека и предмет\n",
        "            result[item][person] = critics_dict[person][item]\n",
        "    return result"
      ],
      "execution_count": null,
      "outputs": []
    },
    {
      "cell_type": "markdown",
      "metadata": {
        "id": "w3rKmTyjWrzN"
      },
      "source": [
        "Далее для каждого фильма посчитать наиболее похожие образцы и коэффициенты похожести для них. Для подсчета схожести будем использовать евклидово расстояние.\n",
        "\n",
        "Из задачи коллаборативной фильтрации по схожести пользователей нам понадобятся функции similar_films, sim_distance, top_Matches."
      ]
    },
    {
      "cell_type": "code",
      "metadata": {
        "id": "ELhRtWzEW-Ho"
      },
      "source": [
        "def similar_films(critics_dict, person1, person2):\n",
        "    # создаем пустой список фильмов с названием \n",
        "    sim_film = []\n",
        "    for i in critics_dict[person1]: \n",
        "      if i in critics_dict[person2]:\n",
        "        sim_film.append(i)\n",
        "    # для всех фильмов у person1, если такой фильм оценивался person 2, добавляем этот фильм в список sim_film\n",
        "\n",
        "    return sim_film"
      ],
      "execution_count": null,
      "outputs": []
    },
    {
      "cell_type": "code",
      "metadata": {
        "id": "SO4WepM9VC8d"
      },
      "source": [
        "def sim_distance(critics_dict, person1, person2):\n",
        "    # используем написанную функцию для получения фильмов, оцененных обоими критиками\n",
        "    sim_films = similar_films(critics_dict, person1, person2)\n",
        "\n",
        "    # если нет ни одной общей оценки, то есть длина sim_film равна 0 - вернуть 0\n",
        "    if len(sim_films) == 0:\n",
        "        return 0\n",
        "\n",
        "    # для каждого фильма из sim_film посчитаем евклидово расстояние и просуммируем все полученные значения sum_of_euclead_dist\n",
        "    sum_of_euclead_dist = 0\n",
        "    for film in sim_films:\n",
        "      sum_of_euclead_dist = sum_of_euclead_dist + ( critics_dict[person1][film] - critics_dict[person2][film] ) **2 \n",
        "\n",
        "    # считаем похожесть \n",
        "    score = 1 / (1 + sum_of_euclead_dist)\n",
        "\n",
        "    return score"
      ],
      "execution_count": null,
      "outputs": []
    },
    {
      "cell_type": "code",
      "metadata": {
        "id": "j60UU8GiVMwt"
      },
      "source": [
        "def topMatches(critics_dict, person, n=5, similarity=sim_distance):\n",
        "\n",
        "    top = []\n",
        "    for user in critics_dict:\n",
        "      if user != person:\n",
        "          sim = similarity(critics_dict, user, person)\n",
        "          top.append((sim, user))\n",
        "    top.sort(reverse = True)\n",
        "    return top[:n]"
      ],
      "execution_count": null,
      "outputs": []
    },
    {
      "cell_type": "markdown",
      "metadata": {
        "id": "cntojFFQSgbw"
      },
      "source": [
        "Реализуйте функцию calculateSimilarItems(), которая делает сразу оба шага. На \n",
        "вход её нужно подать словарь с оценками критиков critics и число образцов, которые мы считаем наиболее похожими (остальные не выводим). Например, так calculateSimilarItems(critics, n=10).\n"
      ]
    },
    {
      "cell_type": "code",
      "metadata": {
        "id": "0MqbdBhNUrKc"
      },
      "source": [
        "# Создать словарь, содержащий для каждого образца те образцы, которые больше всего похожи на него.\n",
        "def calculateSimilarItems(prefs, n = 10):\n",
        "\n",
        "    films = transformPrefs(prefs)\n",
        "    ranged_films = {}\n",
        "\n",
        "    for film in films:\n",
        "      similarity_scores = topMatches(films, film, n, similarity=sim_distance)\n",
        "      ranged_films[film] = similarity_scores\n",
        "\n",
        "    return ranged_films  "
      ],
      "execution_count": null,
      "outputs": []
    },
    {
      "cell_type": "code",
      "metadata": {
        "id": "Cbzu0hh-WIrm"
      },
      "source": [
        "itemsim = calculateSimilarItems(critics, n=3)"
      ],
      "execution_count": null,
      "outputs": []
    },
    {
      "cell_type": "code",
      "metadata": {
        "id": "FdYD2C3VXc92",
        "colab": {
          "base_uri": "https://localhost:8080/",
          "height": 323
        },
        "outputId": "fe93cfe9-b339-42be-8844-e65000118b4d"
      },
      "source": [
        "pp.pprint(itemsim)"
      ],
      "execution_count": null,
      "outputs": [
        {
          "output_type": "stream",
          "text": [
            "{   'Just My Luck': [   (0.2222222222222222, 'Lady in the Water'),\n",
            "                        (0.18181818181818182, 'You, Me and Dupree'),\n",
            "                        (0.15384615384615385, 'The Night Listener')],\n",
            "    'Lady in the Water': [   (0.4, 'You, Me and Dupree'),\n",
            "                             (0.2857142857142857, 'The Night Listener'),\n",
            "                             (0.2222222222222222, 'Snakes on a Plane')],\n",
            "    'Snakes on a Plane': [   (0.2222222222222222, 'Lady in the Water'),\n",
            "                             (0.18181818181818182, 'The Night Listener'),\n",
            "                             (0.16666666666666666, 'Superman Returns')],\n",
            "    'Superman Returns': [   (0.16666666666666666, 'Snakes on a Plane'),\n",
            "                            (0.10256410256410256, 'The Night Listener'),\n",
            "                            (0.09090909090909091, 'Lady in the Water')],\n",
            "    'The Night Listener': [   (0.2857142857142857, 'Lady in the Water'),\n",
            "                              (0.18181818181818182, 'Snakes on a Plane'),\n",
            "                              (0.15384615384615385, 'Just My Luck')],\n",
            "    'You, Me and Dupree': [   (0.4, 'Lady in the Water'),\n",
            "                              (0.18181818181818182, 'Just My Luck'),\n",
            "                              (0.14814814814814814, 'The Night Listener')]}\n"
          ],
          "name": "stdout"
        }
      ]
    },
    {
      "cell_type": "markdown",
      "metadata": {
        "id": "wOKdXHJQYjJx"
      },
      "source": [
        "Получили вложенный словарь с фильмами и их похожестью на другие фильмы.\n",
        "\n",
        "Теперь мы готовы выдавать рекомендации, пользуясь словарем данных о схожести образцов. \n",
        "\n",
        "По аналогии с тем, что мы уже делали, необходимо получить список всех образцов, которым пользователь выставлял оценки, найти похожие и взвесить их с учетом коэффициентов подобия (умножить оценку на коэффициент подобия).\n",
        "\n",
        "Реализуйте этот механизм в функции getRecommendedItems(). "
      ]
    },
    {
      "cell_type": "code",
      "metadata": {
        "id": "Vc_sCxvUYo0A"
      },
      "source": [
        "def getRecommendedItems(prefs, itemMatch, user):\n",
        "\n",
        "    # инициализируем словари\n",
        "    userRatings = prefs[user]\n",
        "    scores = {}\n",
        "    totalSim = {}\n",
        "\n",
        "    # цикл по образцам, оцененным данным пользователем (хранятся в userRatings)\n",
        "    for (item, rating) in userRatings.items():\n",
        "\n",
        "        # цикл по образцам, похожим на данный (хранятся в словаре itemMatch)\n",
        "        for (similarity, item2) in itemMatch[item]:\n",
        "            # пропускаем объект, если пользователь уже оценивал данный образец\n",
        "            if item2 in userRatings:\n",
        "                continue\n",
        "            # взвешенная суммы оценок, умноженных на коэффициент подобия\n",
        "            scores.setdefault(item2, 0)\n",
        "            scores[item2] = scores[item2] + similarity * rating\n",
        "            # сумма всех коэффициентов подобия\n",
        "            totalSim.setdefault(item2, 0)\n",
        "            totalSim[item2] = totalSim[item2] + similarity\n",
        "            if totalSim[item2] == 0:\n",
        "                totalSim[item2] = 0.0000001  # чтобы избежать деления на ноль\n",
        "    # делим каждую итоговую оценку на взвешенную сумму, чтобы вычислить среднее\n",
        "    rankings = [(score / totalSim[item], item) for item, score in scores.items()]\n",
        "\n",
        "    # возвращает список rankings, отсортированный по убыванию\n",
        "    rankings.sort(reverse=True)\n",
        "    return rankings"
      ],
      "execution_count": null,
      "outputs": []
    },
    {
      "cell_type": "code",
      "metadata": {
        "id": "xtltAH9IYw02",
        "colab": {
          "base_uri": "https://localhost:8080/",
          "height": 68
        },
        "outputId": "35314d1c-b5f8-48c4-b821-810a582e4523"
      },
      "source": [
        "getRecommendedItems(critics, itemsim, 'Toby')"
      ],
      "execution_count": null,
      "outputs": [
        {
          "output_type": "execute_result",
          "data": {
            "text/plain": [
              "[(3.182634730538922, 'The Night Listener'),\n",
              " (2.4730878186968837, 'Lady in the Water'),\n",
              " (1.0, 'Just My Luck')]"
            ]
          },
          "metadata": {
            "tags": []
          },
          "execution_count": 168
        }
      ]
    },
    {
      "cell_type": "markdown",
      "metadata": {
        "id": "aJ08WZfeY8s2"
      },
      "source": [
        "Рекомендация получилась так себе. Ведь это просто ранжированный список фильмов, которые он не смотрел. Давайте в рекомендацию будем вклчать только те фильмы, за которые прогнозируемый средний балл превышает средний балл за те фильмы, которые уже оценил критик."
      ]
    },
    {
      "cell_type": "code",
      "metadata": {
        "id": "L_jj41qCY9oL",
        "colab": {
          "base_uri": "https://localhost:8080/",
          "height": 34
        },
        "outputId": "b5247eb5-35e1-43fd-a835-b9183477ccd7"
      },
      "source": [
        "def critic_scores(critics_dict, name):\n",
        "    \n",
        "    avr = 0\n",
        "    for i in critics_dict[name]:\n",
        "        avr += critics_dict[name][i]\n",
        "    return avr/len(critics_dict[name])  \n",
        "\n",
        "critic_scores(critics, \"Toby\")"
      ],
      "execution_count": null,
      "outputs": [
        {
          "output_type": "execute_result",
          "data": {
            "text/plain": [
              "3.1666666666666665"
            ]
          },
          "metadata": {
            "tags": []
          },
          "execution_count": 169
        }
      ]
    },
    {
      "cell_type": "code",
      "metadata": {
        "id": "oUfVLn7ha5OH"
      },
      "source": [
        "def averageRecommended(critics_dict, name):\n",
        "  recommended_films = []\n",
        "  \n",
        "  for i in getRecommendedItems(critics_dict, itemsim, name):\n",
        "    if i[0] > critic_scores(critics_dict, name):\n",
        "      recommended_films.append(i[1])\n",
        "\n",
        "  if len(recommended_films) !=0:\n",
        "     return recommended_films\n",
        "  else:\n",
        "     print(f'Nothing new for you, {name}. Check in later!')"
      ],
      "execution_count": null,
      "outputs": []
    },
    {
      "cell_type": "code",
      "metadata": {
        "id": "s-9I57rMayrB",
        "colab": {
          "base_uri": "https://localhost:8080/",
          "height": 34
        },
        "outputId": "af03ff3b-7f2c-4557-bbd2-c690bfd5d804"
      },
      "source": [
        "averageRecommended(critics, \"Toby\")"
      ],
      "execution_count": null,
      "outputs": [
        {
          "output_type": "execute_result",
          "data": {
            "text/plain": [
              "['The Night Listener']"
            ]
          },
          "metadata": {
            "tags": []
          },
          "execution_count": 171
        }
      ]
    },
    {
      "cell_type": "code",
      "metadata": {
        "id": "I6uKv12cgoiZ",
        "colab": {
          "base_uri": "https://localhost:8080/",
          "height": 34
        },
        "outputId": "f60fc851-099e-4bcc-f719-f269debab1bf"
      },
      "source": [
        "averageRecommended(critics, \"Lisa Rose\")"
      ],
      "execution_count": null,
      "outputs": [
        {
          "output_type": "stream",
          "text": [
            "Nothing new for you, Lisa Rose. Check in later!\n"
          ],
          "name": "stdout"
        }
      ]
    }
  ]
}