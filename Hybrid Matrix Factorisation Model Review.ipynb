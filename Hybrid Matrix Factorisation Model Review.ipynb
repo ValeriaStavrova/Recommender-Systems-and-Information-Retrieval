{
  "nbformat": 4,
  "nbformat_minor": 0,
  "metadata": {
    "kernelspec": {
      "display_name": "Python (reco)",
      "language": "python",
      "name": "reco_base"
    },
    "language_info": {
      "codemirror_mode": {
        "name": "ipython",
        "version": 3
      },
      "file_extension": ".py",
      "mimetype": "text/x-python",
      "name": "python",
      "nbconvert_exporter": "python",
      "pygments_lexer": "ipython3",
      "version": "3.7.7"
    },
    "colab": {
      "name": "Итоговое задание (рекомендательные системы).ipynb",
      "provenance": [],
      "collapsed_sections": []
    }
  },
  "cells": [
    {
      "cell_type": "markdown",
      "metadata": {
        "id": "4spXEeV8Vuly"
      },
      "source": [
        "# Задание: повторить алгоритм рекомендации из статьи или из репозитория https://github.com/microsoft/recommenders. На выходе должен быть colab с пояснениями."
      ]
    },
    {
      "cell_type": "markdown",
      "metadata": {
        "id": "5a8F0TUXVul4"
      },
      "source": [
        "В этом коллабе рассматривается построение ***гибридной рекомендательной модели на основе матричной факторизации*** (разложения матрицы взаимодействия пользователя с элементом на произведение матриц меньшей размерности). Модель рассматривается на примере датасета MovieLens.\n",
        "\n",
        "https://github.com/microsoft/recommenders/blob/master/examples/02_model_hybrid/lightfm_deep_dive.ipynb"
      ]
    },
    {
      "cell_type": "markdown",
      "metadata": {
        "id": "ryv9WCDiVul5"
      },
      "source": [
        "# **Предподсылки:**\n",
        "\n",
        "В целом, большинство моделей рекомендаций можно разделить на две категории: content-based модели (на основе контента) и модели коллаборативной фильтрации. \n",
        "\n",
        "Выбор между двумя моделями во многом зависит от наличия данных. Например, модель коллаборативной фильтрации обычно применяется и эффективна, когда для группы пользователей и объектов было записано достаточное количество оценок / отзывов. Однако, если рейтинги отсутствуют, можно использовать модель на основе контента при условии, что доступны метаданные пользователей и объектов (н-р, фильмов). Это также общий подход к решению проблем холодного старта, когда недостаточно зафиксированных совместных взаимодействий, доступных для моделирования новых пользователей и / или объектов.\n",
        "\n",
        "Ввиду вышеупомянутых проблем был выдвинут ряд предложений по решению проблем холодного старта путем комбинирования подходов к фильтрации на основе контента и коллаборативной фильтрации. Гибридная модель на основе матричной факторизации - одно из предложенных решений."
      ]
    },
    {
      "cell_type": "markdown",
      "metadata": {
        "id": "UODufCqFVul6"
      },
      "source": [
        "# **LightFM Package**\n",
        "\n",
        "LightFM - реализация на Питоне гибридных алгоритмов рекомендаций как с неявной, так и с явной обратной связью. Эта гибридная  модель представляет пользователей и объекты как линейные комбинации скрытых факторов, характеризующих данный контент. Модель изучает эмбеддинги или скрытые представления пользователей и объектов таким образом, что она кодирует предпочтения пользователей по объектам. Эти представления дают \"баллы\" (scores) по каждому объекту для данного пользователя; объекты, получившие высокие оценки, с большей вероятностью будут интересны пользователю.\n",
        "\n",
        "Эмбеддинги пользователей и объектов оцениваются для каждого признака, а затем эти признаки складываются вместе. \n",
        "Например, для пользователя i модель извлекает i-ю строку матрицы признаков, чтобы найти признаки с ненулевым весом. Далее, чтобы получить представление пользователя вычисляем сумму эмбеддингов всех признаков, умноженных на их веса (weights). \n",
        "Представления объектов рассчитываются аналогичным образом."
      ]
    },
    {
      "cell_type": "markdown",
      "metadata": {
        "id": "rXKoQm4WVul7"
      },
      "source": [
        "# **Часть 1.** Рекомендация фильмов с LightFM с использованием только явной обратной связи. "
      ]
    },
    {
      "cell_type": "markdown",
      "metadata": {
        "id": "aHaSEQ4PVul7"
      },
      "source": [
        "*1.1 Импортируем библиотеки.*"
      ]
    },
    {
      "cell_type": "code",
      "metadata": {
        "id": "ImT3FH1PVul8"
      },
      "source": [
        "import warnings\n",
        "warnings.filterwarnings(\"ignore\")"
      ],
      "execution_count": null,
      "outputs": []
    },
    {
      "cell_type": "code",
      "metadata": {
        "id": "jhTi_KM9VumB"
      },
      "source": [
        "import itertools\n",
        "import pandas as pd\n",
        "import numpy as np\n",
        "import matplotlib.pyplot as plt\n",
        "import seaborn as sns\n",
        "\n",
        "import lightfm\n",
        "from lightfm import LightFM\n",
        "from lightfm.data import Dataset\n",
        "from lightfm import cross_validation\n",
        "\n",
        "# импортируем метрики оценки LightFM\n",
        "from lightfm.evaluation import precision_at_k as lightfm_prec_at_k\n",
        "from lightfm.evaluation import recall_at_k as lightfm_recall_at_k\n",
        "\n",
        "# импортируем метрики оценки из этого репозитория\n",
        "from reco_utils.evaluation.python_evaluation import (\n",
        "    precision_at_k, recall_at_k)\n",
        "\n",
        "from reco_utils.common.timer import Timer\n",
        "from reco_utils.dataset import movielens\n",
        "from reco_utils.recommender.lightfm.lightfm_utils import (\n",
        "    track_model_metrics, prepare_test_df, prepare_all_predictions,\n",
        "    compare_metric, similar_users, similar_items)"
      ],
      "execution_count": null,
      "outputs": []
    },
    {
      "cell_type": "markdown",
      "metadata": {
        "id": "cBkE_EYoVumE"
      },
      "source": [
        "*1.2 Задаем переменные.*"
      ]
    },
    {
      "cell_type": "code",
      "metadata": {
        "id": "dcdI6-OtVumF"
      },
      "source": [
        "# выбираем размер MovieLens\n",
        "MOVIELENS_DATA_SIZE = '100k'\n",
        "\n",
        "# количество рекомендаций по умолчанию\n",
        "K = 10\n",
        "# размер тестовой выборки\n",
        "TEST_PERCENTAGE = 0.25\n",
        "# скорость обучения модели\n",
        "LEARNING_RATE = 0.25\n",
        "# количество скрытых факторов\n",
        "NO_COMPONENTS = 20\n",
        "# количество эпох обучения модели\n",
        "NO_EPOCHS = 20\n",
        "# количество потоков обучения\n",
        "NO_THREADS = 32\n",
        "# регуляризация для признаков объектов и пользователей\n",
        "ITEM_ALPHA=1e-6\n",
        "USER_ALPHA=1e-6\n",
        "\n",
        "# число (seed) для генератора псевдослучайных чисел\n",
        "SEEDNO = 42"
      ],
      "execution_count": null,
      "outputs": []
    },
    {
      "cell_type": "markdown",
      "metadata": {
        "id": "8OhMmVnEVumI"
      },
      "source": [
        "*1.3 Получение данных.*"
      ]
    },
    {
      "cell_type": "code",
      "metadata": {
        "id": "OSHYcc8sVumJ",
        "outputId": "379992c7-ae2e-4401-dc90-2bd68ad737d7"
      },
      "source": [
        "data = movielens.load_pandas_df(\n",
        "    size=MOVIELENS_DATA_SIZE,\n",
        "    genres_col='genre',\n",
        "    header=[\"userID\", \"itemID\", \"rating\"])\n",
        "\n",
        "data.sample(5)"
      ],
      "execution_count": null,
      "outputs": [
        {
          "output_type": "stream",
          "text": [
            "100%|██████████| 4.81k/4.81k [00:03<00:00, 1.45kKB/s]\n"
          ],
          "name": "stderr"
        },
        {
          "output_type": "execute_result",
          "data": {
            "text/html": [
              "<div>\n",
              "<style scoped>\n",
              "    .dataframe tbody tr th:only-of-type {\n",
              "        vertical-align: middle;\n",
              "    }\n",
              "\n",
              "    .dataframe tbody tr th {\n",
              "        vertical-align: top;\n",
              "    }\n",
              "\n",
              "    .dataframe thead th {\n",
              "        text-align: right;\n",
              "    }\n",
              "</style>\n",
              "<table border=\"1\" class=\"dataframe\">\n",
              "  <thead>\n",
              "    <tr style=\"text-align: right;\">\n",
              "      <th></th>\n",
              "      <th>userID</th>\n",
              "      <th>itemID</th>\n",
              "      <th>rating</th>\n",
              "      <th>genre</th>\n",
              "    </tr>\n",
              "  </thead>\n",
              "  <tbody>\n",
              "    <tr>\n",
              "      <th>97659</th>\n",
              "      <td>355</td>\n",
              "      <td>1175</td>\n",
              "      <td>5.0</td>\n",
              "      <td>Romance</td>\n",
              "    </tr>\n",
              "    <tr>\n",
              "      <th>92378</th>\n",
              "      <td>519</td>\n",
              "      <td>878</td>\n",
              "      <td>5.0</td>\n",
              "      <td>Children's|Comedy|Mystery</td>\n",
              "    </tr>\n",
              "    <tr>\n",
              "      <th>39656</th>\n",
              "      <td>537</td>\n",
              "      <td>212</td>\n",
              "      <td>3.0</td>\n",
              "      <td>Drama</td>\n",
              "    </tr>\n",
              "    <tr>\n",
              "      <th>3760</th>\n",
              "      <td>882</td>\n",
              "      <td>1</td>\n",
              "      <td>5.0</td>\n",
              "      <td>Animation|Children's|Comedy</td>\n",
              "    </tr>\n",
              "    <tr>\n",
              "      <th>66470</th>\n",
              "      <td>5</td>\n",
              "      <td>447</td>\n",
              "      <td>3.0</td>\n",
              "      <td>Horror</td>\n",
              "    </tr>\n",
              "  </tbody>\n",
              "</table>\n",
              "</div>"
            ],
            "text/plain": [
              "       userID  itemID  rating                        genre\n",
              "97659     355    1175     5.0                      Romance\n",
              "92378     519     878     5.0    Children's|Comedy|Mystery\n",
              "39656     537     212     3.0                        Drama\n",
              "3760      882       1     5.0  Animation|Children's|Comedy\n",
              "66470       5     447     3.0                       Horror"
            ]
          },
          "metadata": {
            "tags": []
          },
          "execution_count": 4
        }
      ]
    },
    {
      "cell_type": "markdown",
      "metadata": {
        "id": "tRFOiKnBVumN"
      },
      "source": [
        "*1.4 Подготовка данных.*"
      ]
    },
    {
      "cell_type": "markdown",
      "metadata": {
        "id": "KAkMIefaVumO"
      },
      "source": [
        "В Dataset будет храниться матрица взаимодействий."
      ]
    },
    {
      "cell_type": "code",
      "metadata": {
        "id": "w2CtIaquVumP"
      },
      "source": [
        "dataset = Dataset()"
      ],
      "execution_count": null,
      "outputs": []
    },
    {
      "cell_type": "markdown",
      "metadata": {
        "id": "vdvIQqcMVumT"
      },
      "source": [
        "Метод fit создает мэппинг (определение соответствия данных между потенциально различными семантиками одного объекта) идентификаторов пользователя / объекта."
      ]
    },
    {
      "cell_type": "code",
      "metadata": {
        "id": "o6ViiahDVumT",
        "outputId": "bc3f6c3b-b99d-4b11-b4a2-15d6a5ec2d05"
      },
      "source": [
        "dataset.fit(users=data['userID'], \n",
        "            items=data['itemID'])\n",
        "\n",
        "# проверяем количество уникальных пользователей и объектов\n",
        "num_users, num_topics = dataset.interactions_shape()\n",
        "print(f'Num users: {num_users}, num_topics: {num_topics}.')"
      ],
      "execution_count": null,
      "outputs": [
        {
          "output_type": "stream",
          "text": [
            "Num users: 943, num_topics: 1682.\n"
          ],
          "name": "stdout"
        }
      ]
    },
    {
      "cell_type": "markdown",
      "metadata": {
        "id": "nt_ZiXI3VumY"
      },
      "source": [
        "Далее строим матрицу взаимодействий. Метод build_interactions возвращает 2 разреженные матрицы, а именно матрицы взаимодействий и весов."
      ]
    },
    {
      "cell_type": "code",
      "metadata": {
        "id": "bbMKhVJ2VumY"
      },
      "source": [
        "(interactions, weights) = dataset.build_interactions(data.iloc[:, 0:3].values)"
      ],
      "execution_count": null,
      "outputs": []
    },
    {
      "cell_type": "markdown",
      "metadata": {
        "id": "EPvHfX2lVumb"
      },
      "source": [
        "LightFM работает несколько иначе по сравнению с другими моделями, так как ожидает, что обучающая и тестовая выборки будут иметь одинаковые размеры. Следовательно, обычное разделение данных не подходит. \n",
        "\n",
        "В LightFM включен метод cross_validation.random_train_test_split для разделения данных на два непересекающихся набора для обучения и тестирования."
      ]
    },
    {
      "cell_type": "code",
      "metadata": {
        "id": "DIvjqXuRVumc"
      },
      "source": [
        "train_interactions, test_interactions = cross_validation.random_train_test_split(\n",
        "    interactions, test_percentage=TEST_PERCENTAGE,\n",
        "    random_state=np.random.RandomState(SEEDNO))"
      ],
      "execution_count": null,
      "outputs": []
    },
    {
      "cell_type": "markdown",
      "metadata": {
        "id": "V-lRo5riVumf"
      },
      "source": [
        "Проверяем размер выборок."
      ]
    },
    {
      "cell_type": "code",
      "metadata": {
        "id": "riyHuy5HVumf",
        "outputId": "c95338bf-1690-46ac-a818-fd0b2cdac163"
      },
      "source": [
        "print(f\"Shape of train interactions: {train_interactions.shape}\")\n",
        "print(f\"Shape of test interactions: {test_interactions.shape}\")"
      ],
      "execution_count": null,
      "outputs": [
        {
          "output_type": "stream",
          "text": [
            "Shape of train interactions: (943, 1682)\n",
            "Shape of test interactions: (943, 1682)\n"
          ],
          "name": "stdout"
        }
      ]
    },
    {
      "cell_type": "markdown",
      "metadata": {
        "id": "EZfMW2M2Vumi"
      },
      "source": [
        "*1.5 Обучение модели.*\n",
        "\n",
        "В качестве функции потерь (loss) Light FM использует WARP (weighted Approximate-Rank Pairwise). Эта функция потерь лучше других показывает себя в задачах ранжирования. Она работает с тройками (user, positive_item, negative_item) и имеет одну очень важную особенность — выбор негативных примеров происходит не случайно, а таким образом, чтобы выбранные негативные примеры «ломали» текущее ранжирование модели, т.е. были выше, чем позитивный пример. Этот подход рекомендуется при наличии только положительных взаимодействий."
      ]
    },
    {
      "cell_type": "code",
      "metadata": {
        "id": "XVh3VkZHVumj"
      },
      "source": [
        "model1 = LightFM(loss='warp', no_components=NO_COMPONENTS, \n",
        "                 learning_rate=LEARNING_RATE,                 \n",
        "                 random_state=np.random.RandomState(SEEDNO))\n",
        "\n",
        "model1.fit(interactions=train_interactions,\n",
        "          epochs=NO_EPOCHS);"
      ],
      "execution_count": null,
      "outputs": []
    },
    {
      "cell_type": "markdown",
      "metadata": {
        "id": "NEs66XcpVumm"
      },
      "source": [
        "*1.6 Подготовка данных для оценки модели.*\n",
        "\n",
        "Прежде чем мы сможем оценить модель, нужно обработать данные для того, чтобы получить их формате, совместимом с существующими методами оценки в этом репозитории.\n",
        "\n",
        "Во-первых, нужно извлечь индексы обучающих и тестовых данных из метода lightfm.cross_validation следующим образом:"
      ]
    },
    {
      "cell_type": "code",
      "metadata": {
        "id": "BfQNqA2PVumm"
      },
      "source": [
        "uids, iids, interaction_data = cross_validation._shuffle(\n",
        "    interactions.row, interactions.col, interactions.data, \n",
        "    random_state=np.random.RandomState(SEEDNO))\n",
        "\n",
        "cutoff = int((1.0 - TEST_PERCENTAGE) * len(uids))\n",
        "test_idx = slice(cutoff, None)"
      ],
      "execution_count": null,
      "outputs": []
    },
    {
      "cell_type": "markdown",
      "metadata": {
        "id": "2WYFg-DSVumq"
      },
      "source": [
        "Затем мэппинг между внутренним и внешним представлением пользователя и объекта извлекается следующим образом:"
      ]
    },
    {
      "cell_type": "code",
      "metadata": {
        "id": "4ZH-mm1iVumq"
      },
      "source": [
        "uid_map, ufeature_map, iid_map, ifeature_map = dataset.mapping()"
      ],
      "execution_count": null,
      "outputs": []
    },
    {
      "cell_type": "markdown",
      "metadata": {
        "id": "XdPJyklUVumw"
      },
      "source": [
        "Создаем тестовую dataframe."
      ]
    },
    {
      "cell_type": "code",
      "metadata": {
        "id": "He_MhZoQVumw",
        "outputId": "9ea9aed1-f4a0-4ecd-9621-84925c6188b7"
      },
      "source": [
        "with Timer() as test_time:\n",
        "    test_df = prepare_test_df(test_idx, uids, iids, uid_map, iid_map, weights)\n",
        "print(f\"Took {test_time.interval:.1f} seconds for prepare and predict test data.\")  \n",
        "time_reco1 = test_time.interval"
      ],
      "execution_count": null,
      "outputs": [
        {
          "output_type": "stream",
          "text": [
            "Took 2.1 seconds for prepare and predict test data.\n"
          ],
          "name": "stdout"
        }
      ]
    },
    {
      "cell_type": "code",
      "metadata": {
        "id": "S1pYT-0YVumz",
        "outputId": "787c0805-caf0-47f2-fd1a-2640f12599d3"
      },
      "source": [
        "test_df.sample(5)"
      ],
      "execution_count": null,
      "outputs": [
        {
          "output_type": "execute_result",
          "data": {
            "text/html": [
              "<div>\n",
              "<style scoped>\n",
              "    .dataframe tbody tr th:only-of-type {\n",
              "        vertical-align: middle;\n",
              "    }\n",
              "\n",
              "    .dataframe tbody tr th {\n",
              "        vertical-align: top;\n",
              "    }\n",
              "\n",
              "    .dataframe thead th {\n",
              "        text-align: right;\n",
              "    }\n",
              "</style>\n",
              "<table border=\"1\" class=\"dataframe\">\n",
              "  <thead>\n",
              "    <tr style=\"text-align: right;\">\n",
              "      <th></th>\n",
              "      <th>userID</th>\n",
              "      <th>itemID</th>\n",
              "      <th>rating</th>\n",
              "    </tr>\n",
              "  </thead>\n",
              "  <tbody>\n",
              "    <tr>\n",
              "      <th>22989</th>\n",
              "      <td>334</td>\n",
              "      <td>1074</td>\n",
              "      <td>2.0</td>\n",
              "    </tr>\n",
              "    <tr>\n",
              "      <th>11409</th>\n",
              "      <td>747</td>\n",
              "      <td>664</td>\n",
              "      <td>2.0</td>\n",
              "    </tr>\n",
              "    <tr>\n",
              "      <th>24134</th>\n",
              "      <td>115</td>\n",
              "      <td>172</td>\n",
              "      <td>4.0</td>\n",
              "    </tr>\n",
              "    <tr>\n",
              "      <th>495</th>\n",
              "      <td>622</td>\n",
              "      <td>1</td>\n",
              "      <td>3.0</td>\n",
              "    </tr>\n",
              "    <tr>\n",
              "      <th>6673</th>\n",
              "      <td>777</td>\n",
              "      <td>168</td>\n",
              "      <td>5.0</td>\n",
              "    </tr>\n",
              "  </tbody>\n",
              "</table>\n",
              "</div>"
            ],
            "text/plain": [
              "       userID  itemID  rating\n",
              "22989     334    1074     2.0\n",
              "11409     747     664     2.0\n",
              "24134     115     172     4.0\n",
              "495       622       1     3.0\n",
              "6673      777     168     5.0"
            ]
          },
          "metadata": {
            "tags": []
          },
          "execution_count": 15
        }
      ]
    },
    {
      "cell_type": "markdown",
      "metadata": {
        "id": "sJibv9GqVum1"
      },
      "source": [
        "Теперь получаем прогнозы по рекомендациям."
      ]
    },
    {
      "cell_type": "code",
      "metadata": {
        "id": "mBBdseKLVum2",
        "outputId": "d69a190a-2c94-44a5-ab96-98036b9ceefd"
      },
      "source": [
        "with Timer() as test_time:\n",
        "    all_predictions = prepare_all_predictions(data, uid_map, iid_map, \n",
        "                                              interactions=train_interactions,\n",
        "                                              model=model1, \n",
        "                                              num_threads=NO_THREADS)\n",
        "print(f\"Took {test_time.interval:.1f} seconds for prepare and predict all data.\")\n",
        "time_reco2 = test_time.interval"
      ],
      "execution_count": null,
      "outputs": [
        {
          "output_type": "stream",
          "text": [
            "Took 528.2 seconds for prepare and predict all data.\n"
          ],
          "name": "stdout"
        }
      ]
    },
    {
      "cell_type": "code",
      "metadata": {
        "id": "WTKDUjzxVum5",
        "outputId": "b28801ae-ce17-43b4-ea5b-a4a2c6601ea7"
      },
      "source": [
        "all_predictions.sample(5)"
      ],
      "execution_count": null,
      "outputs": [
        {
          "output_type": "execute_result",
          "data": {
            "text/html": [
              "<div>\n",
              "<style scoped>\n",
              "    .dataframe tbody tr th:only-of-type {\n",
              "        vertical-align: middle;\n",
              "    }\n",
              "\n",
              "    .dataframe tbody tr th {\n",
              "        vertical-align: top;\n",
              "    }\n",
              "\n",
              "    .dataframe thead th {\n",
              "        text-align: right;\n",
              "    }\n",
              "</style>\n",
              "<table border=\"1\" class=\"dataframe\">\n",
              "  <thead>\n",
              "    <tr style=\"text-align: right;\">\n",
              "      <th></th>\n",
              "      <th>userID</th>\n",
              "      <th>itemID</th>\n",
              "      <th>prediction</th>\n",
              "    </tr>\n",
              "  </thead>\n",
              "  <tbody>\n",
              "    <tr>\n",
              "      <th>1471603</th>\n",
              "      <td>132</td>\n",
              "      <td>1462</td>\n",
              "      <td>-108.912407</td>\n",
              "    </tr>\n",
              "    <tr>\n",
              "      <th>525255</th>\n",
              "      <td>820</td>\n",
              "      <td>835</td>\n",
              "      <td>17.957056</td>\n",
              "    </tr>\n",
              "    <tr>\n",
              "      <th>638079</th>\n",
              "      <td>166</td>\n",
              "      <td>1240</td>\n",
              "      <td>75.742126</td>\n",
              "    </tr>\n",
              "    <tr>\n",
              "      <th>263978</th>\n",
              "      <td>297</td>\n",
              "      <td>362</td>\n",
              "      <td>-58.599857</td>\n",
              "    </tr>\n",
              "    <tr>\n",
              "      <th>90527</th>\n",
              "      <td>129</td>\n",
              "      <td>709</td>\n",
              "      <td>-24.803879</td>\n",
              "    </tr>\n",
              "  </tbody>\n",
              "</table>\n",
              "</div>"
            ],
            "text/plain": [
              "         userID  itemID  prediction\n",
              "1471603     132    1462 -108.912407\n",
              "525255      820     835   17.957056\n",
              "638079      166    1240   75.742126\n",
              "263978      297     362  -58.599857\n",
              "90527       129     709  -24.803879"
            ]
          },
          "metadata": {
            "tags": []
          },
          "execution_count": 17
        }
      ]
    },
    {
      "cell_type": "markdown",
      "metadata": {
        "id": "xN0BFm8MVum8"
      },
      "source": [
        "Здесь следует обратить внимание, что ***значения переменной prediction используются только для целей ранжирования,*** сама переменная не имеет здесь какой-то интерпретации."
      ]
    },
    {
      "cell_type": "markdown",
      "metadata": {
        "id": "0GO0iZM5Vum9"
      },
      "source": [
        "*1.7 Оценка модели.*\n",
        "\n",
        "Производительность модели будет оценена с использованием метрик **Precision@K** (точность на K объектов) и **Recall@K** (полнота на K объектов). Чтобы гарантировать точность, результаты метрик из этого репозитория также сравниваются с результатами, вычисленными с помощью собственных методов оценки LightFM."
      ]
    },
    {
      "cell_type": "code",
      "metadata": {
        "id": "7osit8lJVum9",
        "outputId": "fe531b26-3bd2-43d0-f9f1-a5ec540f61cd"
      },
      "source": [
        "with Timer() as test_time:\n",
        "    eval_precision = precision_at_k(rating_true=test_df, \n",
        "                                rating_pred=all_predictions, k=K)\n",
        "    eval_recall = recall_at_k(test_df, all_predictions, k=K)\n",
        "time_reco3 = test_time.interval\n",
        "\n",
        "with Timer() as test_time:\n",
        "    eval_precision_lfm = lightfm_prec_at_k(model1, test_interactions, \n",
        "                                           train_interactions, k=K).mean()\n",
        "    eval_recall_lfm = lightfm_recall_at_k(model1, test_interactions, \n",
        "                                          train_interactions, k=K).mean()\n",
        "time_lfm = test_time.interval\n",
        "    \n",
        "print(\n",
        "    \"------ Using Repo's evaluation methods ------\",\n",
        "    f\"Precision@K:\\t{eval_precision:.6f}\",\n",
        "    f\"Recall@K:\\t{eval_recall:.6f}\",\n",
        "    \"\\n------ Using LightFM evaluation methods ------\",\n",
        "    f\"Precision@K:\\t{eval_precision_lfm:.6f}\",\n",
        "    f\"Recall@K:\\t{eval_recall_lfm:.6f}\", \n",
        "    sep='\\n')"
      ],
      "execution_count": null,
      "outputs": [
        {
          "output_type": "stream",
          "text": [
            "------ Using Repo's evaluation methods ------\n",
            "Precision@K:\t0.131601\n",
            "Recall@K:\t0.038056\n",
            "\n",
            "------ Using LightFM evaluation methods ------\n",
            "Precision@K:\t0.131601\n",
            "Recall@K:\t0.038056\n"
          ],
          "name": "stdout"
        }
      ]
    },
    {
      "cell_type": "markdown",
      "metadata": {
        "id": "w_8PPeG2VunA"
      },
      "source": [
        "# Часть 2. Рекомендация фильмов с LightFM с использованием явной обратной связи и дополнительных признаков пользователей и объектов.\n",
        "\n",
        "Поскольку LightFM был разработан для включения метаданных как пользователя, так и объекта, модель может быть расширена за счет использования дополнительных признаков, таких как жанры фильмов и род деятельности пользователей."
      ]
    },
    {
      "cell_type": "markdown",
      "metadata": {
        "id": "gP3nqB6AVunB"
      },
      "source": [
        "*2.1 Извлекаем жанры.*\n",
        "\n",
        "Как метаданные фильмов здесь используются их жанры. Поскольку жанры уже были загружены во время первоначального импорта данных, их можно обработать напрямую следующим образом:"
      ]
    },
    {
      "cell_type": "code",
      "metadata": {
        "id": "ialdRbspVunC",
        "outputId": "b431f0ec-1293-4171-e8f0-1bffacc28c3f"
      },
      "source": [
        "#разделяем жанры по вертикальной черте\n",
        "movie_genre = [x.split('|') for x in data['genre']]\n",
        "\n",
        "# находим все уникальные жанры\n",
        "all_movie_genre = sorted(list(set(itertools.chain.from_iterable(movie_genre))))\n",
        "all_movie_genre"
      ],
      "execution_count": null,
      "outputs": [
        {
          "output_type": "execute_result",
          "data": {
            "text/plain": [
              "['Action',\n",
              " 'Adventure',\n",
              " 'Animation',\n",
              " \"Children's\",\n",
              " 'Comedy',\n",
              " 'Crime',\n",
              " 'Documentary',\n",
              " 'Drama',\n",
              " 'Fantasy',\n",
              " 'Film-Noir',\n",
              " 'Horror',\n",
              " 'Musical',\n",
              " 'Mystery',\n",
              " 'Romance',\n",
              " 'Sci-Fi',\n",
              " 'Thriller',\n",
              " 'War',\n",
              " 'Western',\n",
              " 'unknown']"
            ]
          },
          "metadata": {
            "tags": []
          },
          "execution_count": 19
        }
      ]
    },
    {
      "cell_type": "markdown",
      "metadata": {
        "id": "qc_r-g_pVunF"
      },
      "source": [
        "*2.2 Подготовка данных.*\n",
        "\n",
        "Дополнительные признаки пользователей могут быть включены в модель. Здесь указан только род занятий каждого пользователя, но список признаков можно легко расширить. Пользовательские признаки могут быть получены непосредственно с веб-сайта grouplens и объединены с существующими данными следующим образом:"
      ]
    },
    {
      "cell_type": "code",
      "metadata": {
        "id": "SC_dbgBoVunG",
        "outputId": "700e2753-5228-4cf5-b263-aa3a0d4ae52d"
      },
      "source": [
        "user_feature_URL = 'http://files.grouplens.org/datasets/movielens/ml-100k/u.user'\n",
        "user_data = pd.read_table(user_feature_URL, \n",
        "              sep='|', header=None)\n",
        "user_data.columns = ['userID','age','gender','occupation','zipcode']\n",
        "\n",
        "#объединяем признаки пользователей с уже существующими данными\n",
        "new_data = data.merge(user_data[['userID','occupation']], left_on='userID', right_on='userID')\n",
        "new_data.sample(5)"
      ],
      "execution_count": null,
      "outputs": [
        {
          "output_type": "execute_result",
          "data": {
            "text/html": [
              "<div>\n",
              "<style scoped>\n",
              "    .dataframe tbody tr th:only-of-type {\n",
              "        vertical-align: middle;\n",
              "    }\n",
              "\n",
              "    .dataframe tbody tr th {\n",
              "        vertical-align: top;\n",
              "    }\n",
              "\n",
              "    .dataframe thead th {\n",
              "        text-align: right;\n",
              "    }\n",
              "</style>\n",
              "<table border=\"1\" class=\"dataframe\">\n",
              "  <thead>\n",
              "    <tr style=\"text-align: right;\">\n",
              "      <th></th>\n",
              "      <th>userID</th>\n",
              "      <th>itemID</th>\n",
              "      <th>rating</th>\n",
              "      <th>genre</th>\n",
              "      <th>occupation</th>\n",
              "    </tr>\n",
              "  </thead>\n",
              "  <tbody>\n",
              "    <tr>\n",
              "      <th>73219</th>\n",
              "      <td>42</td>\n",
              "      <td>603</td>\n",
              "      <td>4.0</td>\n",
              "      <td>Mystery|Thriller</td>\n",
              "      <td>administrator</td>\n",
              "    </tr>\n",
              "    <tr>\n",
              "      <th>23184</th>\n",
              "      <td>421</td>\n",
              "      <td>197</td>\n",
              "      <td>3.0</td>\n",
              "      <td>Drama|Romance</td>\n",
              "      <td>programmer</td>\n",
              "    </tr>\n",
              "    <tr>\n",
              "      <th>53601</th>\n",
              "      <td>130</td>\n",
              "      <td>219</td>\n",
              "      <td>5.0</td>\n",
              "      <td>Horror</td>\n",
              "      <td>none</td>\n",
              "    </tr>\n",
              "    <tr>\n",
              "      <th>92696</th>\n",
              "      <td>496</td>\n",
              "      <td>135</td>\n",
              "      <td>2.0</td>\n",
              "      <td>Drama|Mystery|Sci-Fi|Thriller</td>\n",
              "      <td>student</td>\n",
              "    </tr>\n",
              "    <tr>\n",
              "      <th>33796</th>\n",
              "      <td>458</td>\n",
              "      <td>129</td>\n",
              "      <td>4.0</td>\n",
              "      <td>Crime|Drama|Romance|Thriller</td>\n",
              "      <td>technician</td>\n",
              "    </tr>\n",
              "  </tbody>\n",
              "</table>\n",
              "</div>"
            ],
            "text/plain": [
              "       userID  itemID  rating                          genre     occupation\n",
              "73219      42     603     4.0               Mystery|Thriller  administrator\n",
              "23184     421     197     3.0                  Drama|Romance     programmer\n",
              "53601     130     219     5.0                         Horror           none\n",
              "92696     496     135     2.0  Drama|Mystery|Sci-Fi|Thriller        student\n",
              "33796     458     129     4.0   Crime|Drama|Romance|Thriller     technician"
            ]
          },
          "metadata": {
            "tags": []
          },
          "execution_count": 20
        }
      ]
    },
    {
      "cell_type": "code",
      "metadata": {
        "id": "0pHKR_S8VunJ"
      },
      "source": [
        "# составляем список уникальных occupation\n",
        "all_occupations = sorted(list(set(new_data['occupation'])))"
      ],
      "execution_count": null,
      "outputs": []
    },
    {
      "cell_type": "markdown",
      "metadata": {
        "id": "Q_EsWa_9VunL"
      },
      "source": [
        "Аналогично предыдущей модели, преобразуем данные и создаем мэппинг идентификаторов пользователя / объекта с помощью метода fit."
      ]
    },
    {
      "cell_type": "code",
      "metadata": {
        "id": "0E0CO4URVunM"
      },
      "source": [
        "dataset2 = Dataset()\n",
        "dataset2.fit(data['userID'], \n",
        "            data['itemID'], \n",
        "            item_features=all_movie_genre,\n",
        "            user_features=all_occupations)"
      ],
      "execution_count": null,
      "outputs": []
    },
    {
      "cell_type": "markdown",
      "metadata": {
        "id": "0Xp26bg-VunP"
      },
      "source": [
        "Жанры фильмов преобразуем в матрицу признаков объектов с помощью метода build_item_features следующим образом:"
      ]
    },
    {
      "cell_type": "code",
      "metadata": {
        "id": "bfyIpFU4VunQ"
      },
      "source": [
        "item_features = dataset2.build_item_features(\n",
        "    (x, y) for x,y in zip(data.itemID, movie_genre))"
      ],
      "execution_count": null,
      "outputs": []
    },
    {
      "cell_type": "markdown",
      "metadata": {
        "id": "ayHP2lXkVunT"
      },
      "source": [
        "Аналогично преобразуем профессии пользователей в матрицу признаков пользователей."
      ]
    },
    {
      "cell_type": "code",
      "metadata": {
        "id": "i8YUhiKnVunU"
      },
      "source": [
        "user_features = dataset2.build_user_features(\n",
        "    (x, [y]) for x,y in zip(new_data.userID, new_data['occupation']))"
      ],
      "execution_count": null,
      "outputs": []
    },
    {
      "cell_type": "markdown",
      "metadata": {
        "id": "YbNDwXROVunX"
      },
      "source": [
        "Далее строим матрицу взаимодействий и разделяем ее на обучающую и тестовую выборку следующим образом:"
      ]
    },
    {
      "cell_type": "code",
      "metadata": {
        "id": "_wns4H20VunX"
      },
      "source": [
        "(interactions2, weights2) = dataset2.build_interactions(data.iloc[:, 0:3].values)\n",
        "\n",
        "train_interactions2, test_interactions2 = cross_validation.random_train_test_split(\n",
        "    interactions2, test_percentage=TEST_PERCENTAGE,\n",
        "    random_state=np.random.RandomState(SEEDNO))"
      ],
      "execution_count": null,
      "outputs": []
    },
    {
      "cell_type": "markdown",
      "metadata": {
        "id": "bKFr8zjyVuna"
      },
      "source": [
        "Параметры второй модели будут аналогичны первой модели для облегчения их сравнения.\n",
        "\n",
        "Производительность модели в каждую эпоху также отслеживается теми же показателями, что и раньше."
      ]
    },
    {
      "cell_type": "code",
      "metadata": {
        "id": "bB3Nk-0mVunb"
      },
      "source": [
        "model2 = LightFM(loss='warp', no_components=NO_COMPONENTS, \n",
        "                 learning_rate=LEARNING_RATE, \n",
        "                 item_alpha=ITEM_ALPHA,\n",
        "                 user_alpha=USER_ALPHA,\n",
        "                 random_state=np.random.RandomState(SEEDNO))"
      ],
      "execution_count": null,
      "outputs": []
    },
    {
      "cell_type": "code",
      "metadata": {
        "id": "zuekQxMnVune"
      },
      "source": [
        "model2.fit(interactions=train_interactions2,\n",
        "           user_features=user_features,\n",
        "           item_features=item_features,\n",
        "           epochs=NO_EPOCHS);"
      ],
      "execution_count": null,
      "outputs": []
    },
    {
      "cell_type": "markdown",
      "metadata": {
        "id": "uLjBC8o6Vuni"
      },
      "source": [
        "*2.3 Подготовка данных для оценки модели.*\n",
        "\n",
        "Как и в предыдущей модели, данные сначала необходимо обработать.\n",
        "Во-первых, нужно извлечь индексы обучающих и тестовых данных из метода lightfm.cross_validation следующим образом:"
      ]
    },
    {
      "cell_type": "code",
      "metadata": {
        "id": "kqJBpamMVuni"
      },
      "source": [
        "uids, iids, interaction_data = cross_validation._shuffle(\n",
        "    interactions2.row, interactions2.col, interactions2.data, \n",
        "    random_state=np.random.RandomState(SEEDNO))"
      ],
      "execution_count": null,
      "outputs": []
    },
    {
      "cell_type": "markdown",
      "metadata": {
        "id": "u70Nae7EVunl"
      },
      "source": [
        "Затем мэппинг между внутренним и внешним представлением пользователя и объекта извлекается следующим образом:"
      ]
    },
    {
      "cell_type": "code",
      "metadata": {
        "id": "51HaNOQEVunl"
      },
      "source": [
        "uid_map, ufeature_map, iid_map, ifeature_map = dataset2.mapping()"
      ],
      "execution_count": null,
      "outputs": []
    },
    {
      "cell_type": "markdown",
      "metadata": {
        "id": "H2vhWKa2Vuno"
      },
      "source": [
        "Во-вторых, строим тестовую dataframe."
      ]
    },
    {
      "cell_type": "code",
      "metadata": {
        "id": "JRkT85umVuno",
        "outputId": "04d2fd6e-f6bd-4aea-affe-88eca05d1cbd"
      },
      "source": [
        "with Timer() as test_time:\n",
        "    test_df2 = prepare_test_df(test_idx, uids, iids, uid_map, iid_map, weights2)\n",
        "print(f\"Took {test_time.interval:.1f} seconds for prepare and predict test data.\")"
      ],
      "execution_count": null,
      "outputs": [
        {
          "output_type": "stream",
          "text": [
            "Took 2.0 seconds for prepare and predict test data.\n"
          ],
          "name": "stdout"
        }
      ]
    },
    {
      "cell_type": "markdown",
      "metadata": {
        "id": "mnT5UpdxVunr"
      },
      "source": [
        "И получаем прогнозы по рекомендациям."
      ]
    },
    {
      "cell_type": "code",
      "metadata": {
        "id": "ZXzof7WIVunr",
        "outputId": "58a22f16-d0d6-4323-be5a-039f2ce99720"
      },
      "source": [
        "with Timer() as test_time:\n",
        "    all_predictions2 = prepare_all_predictions(data, uid_map, iid_map, \n",
        "                                              interactions=train_interactions2,\n",
        "                                               user_features=user_features,\n",
        "                                               item_features=item_features,\n",
        "                                               model=model2,\n",
        "                                               num_threads=NO_THREADS)\n",
        "\n",
        "print(f\"Took {test_time.interval:.1f} seconds for prepare and predict all data.\")"
      ],
      "execution_count": null,
      "outputs": [
        {
          "output_type": "stream",
          "text": [
            "Took 261.2 seconds for prepare and predict all data.\n"
          ],
          "name": "stdout"
        }
      ]
    },
    {
      "cell_type": "markdown",
      "metadata": {
        "id": "hTnvXAjdVuny"
      },
      "source": [
        "# Часть 3. Оценка и сравнение моделей.\n",
        "\n",
        "Прогнозируемая производительность новой модели может быть вычислена и сравнена с предыдущей моделью (в которой использовалась только явная оценка) следующим образом:"
      ]
    },
    {
      "cell_type": "code",
      "metadata": {
        "id": "DOaLN3jOVunz",
        "outputId": "27743a3e-545e-4f6b-a6de-5af220307d59"
      },
      "source": [
        "eval_precision2 = precision_at_k(rating_true=test_df2, \n",
        "                                rating_pred=all_predictions2, k=K)\n",
        "eval_recall2 = recall_at_k(test_df2, all_predictions2, k=K)\n",
        "\n",
        "print(\n",
        "    \"------ Using only explicit ratings ------\",\n",
        "    f\"Precision@K:\\t{eval_precision:.6f}\",\n",
        "    f\"Recall@K:\\t{eval_recall:.6f}\",\n",
        "    \"\\n------ Using both implicit and explicit ratings ------\",\n",
        "    f\"Precision@K:\\t{eval_precision2:.6f}\",\n",
        "    f\"Recall@K:\\t{eval_recall2:.6f}\",\n",
        "    sep='\\n')"
      ],
      "execution_count": null,
      "outputs": [
        {
          "output_type": "stream",
          "text": [
            "------ Using only explicit ratings ------\n",
            "Precision@K:\t0.131601\n",
            "Recall@K:\t0.038056\n",
            "\n",
            "------ Using both implicit and explicit ratings ------\n",
            "Precision@K:\t0.146766\n",
            "Recall@K:\t0.055104\n"
          ],
          "name": "stdout"
        }
      ]
    },
    {
      "cell_type": "markdown",
      "metadata": {
        "id": "bIVtb9MmVun4"
      },
      "source": [
        "Для большей наглядности показатели обучения и производительности моделей можно визуализировать."
      ]
    },
    {
      "cell_type": "code",
      "metadata": {
        "id": "TpgG8EBmVun5",
        "outputId": "d6e810dc-dd8b-444f-df62-cf2fb100bc18"
      },
      "source": [
        "#первая модель\n",
        "\n",
        "output1, _ = track_model_metrics(model=model1, train_interactions=train_interactions, \n",
        "                              test_interactions=test_interactions, k=K,\n",
        "                              no_epochs=NO_EPOCHS, no_threads=NO_THREADS)"
      ],
      "execution_count": null,
      "outputs": [
        {
          "output_type": "display_data",
          "data": {
            "image/png": "[encoded data removed]",
            "text/plain": [
              "<Figure size 491.375x216 with 2 Axes>"
            ]
          },
          "metadata": {
            "tags": [],
            "needs_background": "light"
          }
        }
      ]
    },
    {
      "cell_type": "code",
      "metadata": {
        "id": "DFz6PUgIVun7",
        "outputId": "5f901517-c9f5-45db-930b-9afbc3bdf3e3"
      },
      "source": [
        "#вторая модель\n",
        "\n",
        "output2, _ = track_model_metrics(model=model2, train_interactions=train_interactions2, \n",
        "                              test_interactions=test_interactions2, k=K,\n",
        "                              no_epochs=NO_EPOCHS, no_threads=NO_THREADS, \n",
        "                              item_features=item_features,\n",
        "                              user_features=user_features)"
      ],
      "execution_count": null,
      "outputs": [
        {
          "output_type": "display_data",
          "data": {
            "image/png": "[encoded data removed]",
            "text/plain": [
              "<Figure size 491.375x216 with 2 Axes>"
            ]
          },
          "metadata": {
            "tags": [],
            "needs_background": "light"
          }
        }
      ]
    },
    {
      "cell_type": "code",
      "metadata": {
        "id": "C4nnRHJkVun-",
        "outputId": "d8d93084-cd96-489b-9952-7c9176ef5e21"
      },
      "source": [
        "for i in ['Precision', 'Recall']:\n",
        "    sns.set_palette(\"Set2\")\n",
        "    plt.figure()\n",
        "    sns.scatterplot(x=\"epoch\", y=\"value\", hue='data',\n",
        "                data=compare_metric(df_list = [output1, output2], metric=i)\n",
        "               ).set_title(f'{i} comparison using test set');"
      ],
      "execution_count": null,
      "outputs": [
        {
          "output_type": "display_data",
          "data": {
            "image/png": "[encoded data removed]",
            "text/plain": [
              "<Figure size 432x288 with 1 Axes>"
            ]
          },
          "metadata": {
            "tags": [],
            "needs_background": "light"
          }
        },
        {
          "output_type": "display_data",
          "data": {
            "image/png": "[encoded data removed]",
            "text/plain": [
              "<Figure size 432x288 with 1 Axes>"
            ]
          },
          "metadata": {
            "tags": [],
            "needs_background": "light"
          }
        }
      ]
    },
    {
      "cell_type": "markdown",
      "metadata": {
        "id": "vdKBuL5gVuoA"
      },
      "source": [
        "Ссылаясь на приведенные выше цифры, довольно очевидно, что количество эпох слишком мало, поскольку характеристики модели не стабилизировались. Следует выбирать иное количество эпох и другие гиперпараметры для улучшение производительности модели.\n",
        "\n",
        "Однако, интересно, что модель 2 (с использованием как неявных, так и явных данных) работает стабильно лучше, чем модель 1 (с использованием только явных оценок), что подчеркивает преимущества включения таких дополнительных признаков в модель."
      ]
    },
    {
      "cell_type": "markdown",
      "metadata": {
        "id": "vnvS3_GjVuoB"
      },
      "source": [
        "# Часть 4. Похожие пользователи и объекты.\n",
        "\n",
        "Также мы можем получить схожих пользователей с помощью метода get_user_presentations следующим образом:"
      ]
    },
    {
      "cell_type": "code",
      "metadata": {
        "id": "k6Vpv9JaVuoC",
        "outputId": "4cb9311a-76f4-4b84-82cb-1ce20039c746"
      },
      "source": [
        "_, user_embeddings = model2.get_user_representations(features=user_features)\n",
        "user_embeddings"
      ],
      "execution_count": null,
      "outputs": [
        {
          "output_type": "execute_result",
          "data": {
            "text/plain": [
              "array([[-2.812179  ,  1.2222148 ,  4.953264  , ..., -3.3555129 ,\n",
              "         1.6758035 , -2.2008545 ],\n",
              "       [-5.561155  ,  0.9935793 ,  4.898535  , ..., -2.4852693 ,\n",
              "         2.6707168 , -2.358396  ],\n",
              "       [-4.1847672 ,  3.4130979 ,  2.0749655 , ..., -5.0885353 ,\n",
              "         1.5553118 , -4.999546  ],\n",
              "       ...,\n",
              "       [-4.199321  ,  0.84061253,  3.8337953 , ..., -5.762394  ,\n",
              "         2.5459297 , -1.7942549 ],\n",
              "       [-5.4224854 ,  1.0155687 ,  4.7367754 , ..., -2.3444839 ,\n",
              "         2.587773  , -2.252521  ],\n",
              "       [-1.7079251 ,  1.2963445 ,  4.201886  , ..., -3.2758484 ,\n",
              "         2.3953397 , -2.0676184 ]], dtype=float32)"
            ]
          },
          "metadata": {
            "tags": []
          },
          "execution_count": 43
        }
      ]
    },
    {
      "cell_type": "markdown",
      "metadata": {
        "id": "zMgezYQZVuoH"
      },
      "source": [
        "Чтобы получить N первых похожих пользователей, мы можем использовать Similar_users из reco_utils. Например, если мы хотим выбрать 10 пользователей, наиболее похожих на пользователя 1:"
      ]
    },
    {
      "cell_type": "code",
      "metadata": {
        "id": "oPQ-a-hhVuoI",
        "outputId": "ef6ef2b0-fc3f-4385-99e9-82dbf8dd1c66"
      },
      "source": [
        "similar_users(user_id=1, user_features=user_features, \n",
        "            model=model2)"
      ],
      "execution_count": null,
      "outputs": [
        {
          "output_type": "execute_result",
          "data": {
            "text/html": [
              "<div>\n",
              "<style scoped>\n",
              "    .dataframe tbody tr th:only-of-type {\n",
              "        vertical-align: middle;\n",
              "    }\n",
              "\n",
              "    .dataframe tbody tr th {\n",
              "        vertical-align: top;\n",
              "    }\n",
              "\n",
              "    .dataframe thead th {\n",
              "        text-align: right;\n",
              "    }\n",
              "</style>\n",
              "<table border=\"1\" class=\"dataframe\">\n",
              "  <thead>\n",
              "    <tr style=\"text-align: right;\">\n",
              "      <th></th>\n",
              "      <th>userID</th>\n",
              "      <th>score</th>\n",
              "    </tr>\n",
              "  </thead>\n",
              "  <tbody>\n",
              "    <tr>\n",
              "      <th>0</th>\n",
              "      <td>555</td>\n",
              "      <td>0.999997</td>\n",
              "    </tr>\n",
              "    <tr>\n",
              "      <th>1</th>\n",
              "      <td>54</td>\n",
              "      <td>0.999993</td>\n",
              "    </tr>\n",
              "    <tr>\n",
              "      <th>2</th>\n",
              "      <td>282</td>\n",
              "      <td>0.999983</td>\n",
              "    </tr>\n",
              "    <tr>\n",
              "      <th>3</th>\n",
              "      <td>314</td>\n",
              "      <td>0.999983</td>\n",
              "    </tr>\n",
              "    <tr>\n",
              "      <th>4</th>\n",
              "      <td>527</td>\n",
              "      <td>0.999980</td>\n",
              "    </tr>\n",
              "    <tr>\n",
              "      <th>5</th>\n",
              "      <td>411</td>\n",
              "      <td>0.999978</td>\n",
              "    </tr>\n",
              "    <tr>\n",
              "      <th>6</th>\n",
              "      <td>465</td>\n",
              "      <td>0.999975</td>\n",
              "    </tr>\n",
              "    <tr>\n",
              "      <th>7</th>\n",
              "      <td>57</td>\n",
              "      <td>0.999974</td>\n",
              "    </tr>\n",
              "    <tr>\n",
              "      <th>8</th>\n",
              "      <td>481</td>\n",
              "      <td>0.999973</td>\n",
              "    </tr>\n",
              "    <tr>\n",
              "      <th>9</th>\n",
              "      <td>395</td>\n",
              "      <td>0.999973</td>\n",
              "    </tr>\n",
              "  </tbody>\n",
              "</table>\n",
              "</div>"
            ],
            "text/plain": [
              "   userID     score\n",
              "0     555  0.999997\n",
              "1      54  0.999993\n",
              "2     282  0.999983\n",
              "3     314  0.999983\n",
              "4     527  0.999980\n",
              "5     411  0.999978\n",
              "6     465  0.999975\n",
              "7      57  0.999974\n",
              "8     481  0.999973\n",
              "9     395  0.999973"
            ]
          },
          "metadata": {
            "tags": []
          },
          "execution_count": 44
        }
      ]
    },
    {
      "cell_type": "markdown",
      "metadata": {
        "id": "fV_Bmv6pVuoK"
      },
      "source": [
        "Аналогично мы можем получить схожие фильмы:"
      ]
    },
    {
      "cell_type": "code",
      "metadata": {
        "id": "XniP5Pm9VuoL",
        "outputId": "6945a3ce-b84f-4a3d-81f4-a19fad9ed9ae"
      },
      "source": [
        "_, item_embeddings = model2.get_item_representations(features=item_features)\n",
        "similar_items(item_id=10, item_features=item_features, \n",
        "            model=model2)"
      ],
      "execution_count": null,
      "outputs": [
        {
          "output_type": "execute_result",
          "data": {
            "text/html": [
              "<div>\n",
              "<style scoped>\n",
              "    .dataframe tbody tr th:only-of-type {\n",
              "        vertical-align: middle;\n",
              "    }\n",
              "\n",
              "    .dataframe tbody tr th {\n",
              "        vertical-align: top;\n",
              "    }\n",
              "\n",
              "    .dataframe thead th {\n",
              "        text-align: right;\n",
              "    }\n",
              "</style>\n",
              "<table border=\"1\" class=\"dataframe\">\n",
              "  <thead>\n",
              "    <tr style=\"text-align: right;\">\n",
              "      <th></th>\n",
              "      <th>itemID</th>\n",
              "      <th>score</th>\n",
              "    </tr>\n",
              "  </thead>\n",
              "  <tbody>\n",
              "    <tr>\n",
              "      <th>0</th>\n",
              "      <td>417</td>\n",
              "      <td>0.998252</td>\n",
              "    </tr>\n",
              "    <tr>\n",
              "      <th>1</th>\n",
              "      <td>140</td>\n",
              "      <td>0.998184</td>\n",
              "    </tr>\n",
              "    <tr>\n",
              "      <th>2</th>\n",
              "      <td>23</td>\n",
              "      <td>0.998116</td>\n",
              "    </tr>\n",
              "    <tr>\n",
              "      <th>3</th>\n",
              "      <td>476</td>\n",
              "      <td>0.997925</td>\n",
              "    </tr>\n",
              "    <tr>\n",
              "      <th>4</th>\n",
              "      <td>87</td>\n",
              "      <td>0.997839</td>\n",
              "    </tr>\n",
              "    <tr>\n",
              "      <th>5</th>\n",
              "      <td>147</td>\n",
              "      <td>0.997797</td>\n",
              "    </tr>\n",
              "    <tr>\n",
              "      <th>6</th>\n",
              "      <td>165</td>\n",
              "      <td>0.997434</td>\n",
              "    </tr>\n",
              "    <tr>\n",
              "      <th>7</th>\n",
              "      <td>1013</td>\n",
              "      <td>0.997283</td>\n",
              "    </tr>\n",
              "    <tr>\n",
              "      <th>8</th>\n",
              "      <td>103</td>\n",
              "      <td>0.997146</td>\n",
              "    </tr>\n",
              "    <tr>\n",
              "      <th>9</th>\n",
              "      <td>872</td>\n",
              "      <td>0.997126</td>\n",
              "    </tr>\n",
              "  </tbody>\n",
              "</table>\n",
              "</div>"
            ],
            "text/plain": [
              "   itemID     score\n",
              "0     417  0.998252\n",
              "1     140  0.998184\n",
              "2      23  0.998116\n",
              "3     476  0.997925\n",
              "4      87  0.997839\n",
              "5     147  0.997797\n",
              "6     165  0.997434\n",
              "7    1013  0.997283\n",
              "8     103  0.997146\n",
              "9     872  0.997126"
            ]
          },
          "metadata": {
            "tags": []
          },
          "execution_count": 45
        }
      ]
    },
    {
      "cell_type": "markdown",
      "metadata": {
        "id": "IyyXBMftVuoR"
      },
      "source": [
        "# Вывод:\n",
        "\n",
        "В этом коллабе мы рассмотрели предпосылки к созданию гибридной рекомендательной модели на основе матричной факторизации и познакомились с примером реализации такой модели с использованием LightFM. Мы изучили процесс дополнения модели метаданными пользователей и объектов, сравнив производительность.\n",
        "\n",
        "Кроме того, было изучено вычисление степени схожести как пользователей, так и объектов, и извлечение похожих элементов из модели. \n",
        "\n",
        "Этот алгоритм является отличной основой для гибридных моделей рекомендательных систем, основанных на комбинировании признаков. "
      ]
    }
  ]
}
