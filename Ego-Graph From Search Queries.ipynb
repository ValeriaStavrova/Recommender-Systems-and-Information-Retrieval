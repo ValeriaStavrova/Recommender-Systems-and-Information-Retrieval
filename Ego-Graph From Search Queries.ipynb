{
  "nbformat": 4,
  "nbformat_minor": 0,
  "metadata": {
    "colab": {
      "name": "HT 1 Information Retrieval.ipynb",
      "provenance": [],
      "collapsed_sections": []
    },
    "kernelspec": {
      "display_name": "Python 3",
      "name": "python3"
    }
  },
  "cells": [
    {
      "cell_type": "markdown",
      "metadata": {
        "id": "pmtF1eqL8wg8"
      },
      "source": [
        "# **Задание.**\n",
        "\n",
        "В статье [О том, что происходит, когда в поиске Google используют слово «vs»](https://habr.com/ru/company/ruvds/blog/508652/) описан подход для построения эго-графов на основе запросов в Google. В качестве задания воспроизведите этот подход для любого запроса на ваше усмотрение.  "
      ]
    },
    {
      "cell_type": "code",
      "metadata": {
        "id": "f7Fl5EKSiUpg",
        "colab": {
          "base_uri": "https://localhost:8080/"
        },
        "outputId": "43a8f17c-431c-4138-e119-6008ed708740"
      },
      "source": [
        "import requests\n",
        "import pandas as pd\n",
        "from bs4 import BeautifulSoup\n",
        "!pip install fuzzywuzzy\n",
        "from fuzzywuzzy.process import dedupe\n",
        "from fuzzywuzzy import fuzz\n",
        "from matplotlib import cm"
      ],
      "execution_count": null,
      "outputs": [
        {
          "output_type": "stream",
          "text": [
            "Requirement already satisfied: fuzzywuzzy in /usr/local/lib/python3.6/dist-packages (0.18.0)\n"
          ],
          "name": "stdout"
        }
      ]
    },
    {
      "cell_type": "markdown",
      "metadata": {
        "id": "TaQJ0YjQR9y4"
      },
      "source": [
        "Первый шаг работы заключается в том, чтобы обратиться по указанному URL. В ответ мы получим XML-данные. \n",
        "\n",
        "Делаем запрос по Игре Престолов."
      ]
    },
    {
      "cell_type": "code",
      "metadata": {
        "id": "XhVo0oJCkOyx",
        "colab": {
          "base_uri": "https://localhost:8080/"
        },
        "outputId": "07286bee-a9bb-4a57-8a30-6649cecc45fd"
      },
      "source": [
        "response = requests.get('http://suggestqueries.google.com/complete/search?&output=toolbar&gl=us&hl=en&q=game%20of%20thrones%20vs%20').text\n",
        "soup = BeautifulSoup(response, \"xml\")\n",
        "print(soup.prettify())"
      ],
      "execution_count": null,
      "outputs": [
        {
          "output_type": "stream",
          "text": [
            "<?xml version=\"1.0\" encoding=\"utf-8\"?>\n",
            "<toplevel>\n",
            " <CompleteSuggestion>\n",
            "  <suggestion data=\"game of thrones vs lord of the rings\"/>\n",
            " </CompleteSuggestion>\n",
            " <CompleteSuggestion>\n",
            "  <suggestion data=\"game of thrones vs breaking bad\"/>\n",
            " </CompleteSuggestion>\n",
            " <CompleteSuggestion>\n",
            "  <suggestion data=\"game of thrones vs vikings\"/>\n",
            " </CompleteSuggestion>\n",
            " <CompleteSuggestion>\n",
            "  <suggestion data=\"game of thrones vs the witcher\"/>\n",
            " </CompleteSuggestion>\n",
            " <CompleteSuggestion>\n",
            "  <suggestion data=\"game of thrones vs the last kingdom\"/>\n",
            " </CompleteSuggestion>\n",
            " <CompleteSuggestion>\n",
            "  <suggestion data=\"game of thrones vs outlander\"/>\n",
            " </CompleteSuggestion>\n",
            " <CompleteSuggestion>\n",
            "  <suggestion data=\"game of thrones vs avatar\"/>\n",
            " </CompleteSuggestion>\n",
            " <CompleteSuggestion>\n",
            "  <suggestion data=\"game of thrones vs books\"/>\n",
            " </CompleteSuggestion>\n",
            " <CompleteSuggestion>\n",
            "  <suggestion data=\"game of thrones vs wheel of time\"/>\n",
            " </CompleteSuggestion>\n",
            " <CompleteSuggestion>\n",
            "  <suggestion data=\"game of thrones vs the 100\"/>\n",
            " </CompleteSuggestion>\n",
            "</toplevel>\n"
          ],
          "name": "stdout"
        }
      ]
    },
    {
      "cell_type": "markdown",
      "metadata": {
        "id": "mHwsMSxBSTG0"
      },
      "source": [
        "Теперь нужно проверить полученные результаты автозавершения на соответствие некоему набору критериев. С теми, которые нам подойдут, мы продолжим работу.\n",
        "\n",
        "Рекомендованный поисковый запрос не должен содержать текст исходного запроса.\n",
        "Рекомендация не должна включать в себя запросы, которые были признаны подходящими ранее.\n",
        "Рекомендация не должна включать в себя несколько слов «vs».\n",
        "После того, как найдено 5 подходящих поисковых запросов, все остальные уже не рассматриваются."
      ]
    },
    {
      "cell_type": "markdown",
      "metadata": {
        "id": "EL1aH0ElfR0l"
      },
      "source": [
        "Для того, чтобы убирать похожие запросы(н-р, harry potter, harry potter books, harry potter saga) воспользуемся библиотекой fuzzywuzzy. https://habr.com/ru/post/491448/. Порог (threshold) отбора устанавливаем вручную в зависимости от контекста. "
      ]
    },
    {
      "cell_type": "code",
      "metadata": {
        "id": "6nz-ur7VmWWB"
      },
      "source": [
        "source = []\n",
        "target = []\n",
        "no_dublicates = str()\n",
        "for suggestion in soup.find_all('suggestion'):\n",
        "    v = suggestion.get('data')\n",
        "    v = v.split(' vs ')\n",
        "    if v[0] != v[1]:\n",
        "        source.append(v[0])\n",
        "        target.append(v[1])\n",
        "deduped_list = dedupe(target, threshold=90, scorer=fuzz.token_set_ratio)"
      ],
      "execution_count": null,
      "outputs": []
    },
    {
      "cell_type": "code",
      "metadata": {
        "id": "Hf-WqvQtpsxa",
        "colab": {
          "base_uri": "https://localhost:8080/",
          "height": 197
        },
        "outputId": "30020c3d-14fe-4016-a566-ab57099093e5"
      },
      "source": [
        "d = {'source': source[:len(deduped_list)], 'target': deduped_list}\n",
        "suggestion_df = pd.DataFrame(data=d)\n",
        "suggestion_df = suggestion_df[:5]\n",
        "suggestion_df['weight'] = range(5, 0, -1)\n",
        "\n",
        "suggestion_df"
      ],
      "execution_count": null,
      "outputs": [
        {
          "output_type": "execute_result",
          "data": {
            "text/html": [
              "<div>\n",
              "<style scoped>\n",
              "    .dataframe tbody tr th:only-of-type {\n",
              "        vertical-align: middle;\n",
              "    }\n",
              "\n",
              "    .dataframe tbody tr th {\n",
              "        vertical-align: top;\n",
              "    }\n",
              "\n",
              "    .dataframe thead th {\n",
              "        text-align: right;\n",
              "    }\n",
              "</style>\n",
              "<table border=\"1\" class=\"dataframe\">\n",
              "  <thead>\n",
              "    <tr style=\"text-align: right;\">\n",
              "      <th></th>\n",
              "      <th>source</th>\n",
              "      <th>target</th>\n",
              "      <th>weight</th>\n",
              "    </tr>\n",
              "  </thead>\n",
              "  <tbody>\n",
              "    <tr>\n",
              "      <th>0</th>\n",
              "      <td>game of thrones</td>\n",
              "      <td>lord of the rings</td>\n",
              "      <td>5</td>\n",
              "    </tr>\n",
              "    <tr>\n",
              "      <th>1</th>\n",
              "      <td>game of thrones</td>\n",
              "      <td>breaking bad</td>\n",
              "      <td>4</td>\n",
              "    </tr>\n",
              "    <tr>\n",
              "      <th>2</th>\n",
              "      <td>game of thrones</td>\n",
              "      <td>vikings</td>\n",
              "      <td>3</td>\n",
              "    </tr>\n",
              "    <tr>\n",
              "      <th>3</th>\n",
              "      <td>game of thrones</td>\n",
              "      <td>the witcher</td>\n",
              "      <td>2</td>\n",
              "    </tr>\n",
              "    <tr>\n",
              "      <th>4</th>\n",
              "      <td>game of thrones</td>\n",
              "      <td>the last kingdom</td>\n",
              "      <td>1</td>\n",
              "    </tr>\n",
              "  </tbody>\n",
              "</table>\n",
              "</div>"
            ],
            "text/plain": [
              "            source             target  weight\n",
              "0  game of thrones  lord of the rings       5\n",
              "1  game of thrones       breaking bad       4\n",
              "2  game of thrones            vikings       3\n",
              "3  game of thrones        the witcher       2\n",
              "4  game of thrones   the last kingdom       1"
            ]
          },
          "metadata": {
            "tags": []
          },
          "execution_count": 80
        }
      ]
    },
    {
      "cell_type": "markdown",
      "metadata": {
        "id": "7XNvf9nxR5zk"
      },
      "source": [
        "Затем эти 5 найденных рекомендаций подвергают такой же обработке, какой был подвергнут исходный поисковый запрос. Их передают API с использованием слова «vs» и опять выбирают 5 результатов автозавершения, соответствующих вышеозначенным критериям. Вот результат такой обработки вышеприведённого списка."
      ]
    },
    {
      "cell_type": "code",
      "metadata": {
        "id": "j8NvCYj2tGlE",
        "colab": {
          "base_uri": "https://localhost:8080/",
          "height": 947
        },
        "outputId": "431c4b3a-443c-4e0f-f1e5-55ffe32d987f"
      },
      "source": [
        "for key, value in suggestion_df['target'].iteritems():\n",
        "    value = value.replace(\" \", \"%20\")\n",
        "    response = requests.get('http://suggestqueries.google.com/complete/search?&output=toolbar&gl=us&hl=en&q=' + value +'%20vs%20').text\n",
        "    soup = BeautifulSoup(response, \"xml\")\n",
        "    source = []\n",
        "    target = []\n",
        "    for suggestion in soup.find_all('suggestion'):\n",
        "        v = suggestion.get('data')\n",
        "        v = v.split(' vs ')\n",
        "        if v[0] != v[1]:\n",
        "            source.append(v[0])\n",
        "            target.append(v[1])\n",
        "        deduped_list = dedupe(target, threshold=55, scorer=fuzz.partial_ratio)\n",
        "    d2 = {'source': source[:len(deduped_list)], 'target': deduped_list}\n",
        "    df2 = pd.DataFrame(data=d2)\n",
        "    df2 = df2[:5]\n",
        "    df2['weight'] = range(5, 0, -1)\n",
        "    suggestion_df = suggestion_df.append(df2)\n",
        "\n",
        "suggestion_df"
      ],
      "execution_count": null,
      "outputs": [
        {
          "output_type": "execute_result",
          "data": {
            "text/html": [
              "<div>\n",
              "<style scoped>\n",
              "    .dataframe tbody tr th:only-of-type {\n",
              "        vertical-align: middle;\n",
              "    }\n",
              "\n",
              "    .dataframe tbody tr th {\n",
              "        vertical-align: top;\n",
              "    }\n",
              "\n",
              "    .dataframe thead th {\n",
              "        text-align: right;\n",
              "    }\n",
              "</style>\n",
              "<table border=\"1\" class=\"dataframe\">\n",
              "  <thead>\n",
              "    <tr style=\"text-align: right;\">\n",
              "      <th></th>\n",
              "      <th>source</th>\n",
              "      <th>target</th>\n",
              "      <th>weight</th>\n",
              "    </tr>\n",
              "  </thead>\n",
              "  <tbody>\n",
              "    <tr>\n",
              "      <th>0</th>\n",
              "      <td>game of thrones</td>\n",
              "      <td>lord of the rings</td>\n",
              "      <td>5</td>\n",
              "    </tr>\n",
              "    <tr>\n",
              "      <th>1</th>\n",
              "      <td>game of thrones</td>\n",
              "      <td>breaking bad</td>\n",
              "      <td>4</td>\n",
              "    </tr>\n",
              "    <tr>\n",
              "      <th>2</th>\n",
              "      <td>game of thrones</td>\n",
              "      <td>vikings</td>\n",
              "      <td>3</td>\n",
              "    </tr>\n",
              "    <tr>\n",
              "      <th>3</th>\n",
              "      <td>game of thrones</td>\n",
              "      <td>the witcher</td>\n",
              "      <td>2</td>\n",
              "    </tr>\n",
              "    <tr>\n",
              "      <th>4</th>\n",
              "      <td>game of thrones</td>\n",
              "      <td>the last kingdom</td>\n",
              "      <td>1</td>\n",
              "    </tr>\n",
              "    <tr>\n",
              "      <th>0</th>\n",
              "      <td>lord of the rings</td>\n",
              "      <td>harry potter memes</td>\n",
              "      <td>5</td>\n",
              "    </tr>\n",
              "    <tr>\n",
              "      <th>1</th>\n",
              "      <td>lord of the rings</td>\n",
              "      <td>the hobbit movies</td>\n",
              "      <td>4</td>\n",
              "    </tr>\n",
              "    <tr>\n",
              "      <th>2</th>\n",
              "      <td>lord of the rings</td>\n",
              "      <td>game of thrones</td>\n",
              "      <td>3</td>\n",
              "    </tr>\n",
              "    <tr>\n",
              "      <th>3</th>\n",
              "      <td>lord of the rings</td>\n",
              "      <td>harry potter sales</td>\n",
              "      <td>2</td>\n",
              "    </tr>\n",
              "    <tr>\n",
              "      <th>4</th>\n",
              "      <td>lord of the rings</td>\n",
              "      <td>narnia</td>\n",
              "      <td>1</td>\n",
              "    </tr>\n",
              "    <tr>\n",
              "      <th>0</th>\n",
              "      <td>breaking bad</td>\n",
              "      <td>better call saul</td>\n",
              "      <td>5</td>\n",
              "    </tr>\n",
              "    <tr>\n",
              "      <th>1</th>\n",
              "      <td>breaking bad</td>\n",
              "      <td>ozark</td>\n",
              "      <td>4</td>\n",
              "    </tr>\n",
              "    <tr>\n",
              "      <th>2</th>\n",
              "      <td>breaking bad</td>\n",
              "      <td>game of thrones</td>\n",
              "      <td>3</td>\n",
              "    </tr>\n",
              "    <tr>\n",
              "      <th>3</th>\n",
              "      <td>breaking bad</td>\n",
              "      <td>sopranos</td>\n",
              "      <td>2</td>\n",
              "    </tr>\n",
              "    <tr>\n",
              "      <th>4</th>\n",
              "      <td>breaking bad</td>\n",
              "      <td>the wire</td>\n",
              "      <td>1</td>\n",
              "    </tr>\n",
              "    <tr>\n",
              "      <th>0</th>\n",
              "      <td>vikings</td>\n",
              "      <td>bears highlights</td>\n",
              "      <td>5</td>\n",
              "    </tr>\n",
              "    <tr>\n",
              "      <th>1</th>\n",
              "      <td>vikings</td>\n",
              "      <td>bears history</td>\n",
              "      <td>4</td>\n",
              "    </tr>\n",
              "    <tr>\n",
              "      <th>2</th>\n",
              "      <td>vikings</td>\n",
              "      <td>cowboys</td>\n",
              "      <td>3</td>\n",
              "    </tr>\n",
              "    <tr>\n",
              "      <th>3</th>\n",
              "      <td>vikings</td>\n",
              "      <td>packers</td>\n",
              "      <td>2</td>\n",
              "    </tr>\n",
              "    <tr>\n",
              "      <th>4</th>\n",
              "      <td>vikings</td>\n",
              "      <td>seahawks</td>\n",
              "      <td>1</td>\n",
              "    </tr>\n",
              "    <tr>\n",
              "      <th>0</th>\n",
              "      <td>the witcher</td>\n",
              "      <td>skyrim</td>\n",
              "      <td>5</td>\n",
              "    </tr>\n",
              "    <tr>\n",
              "      <th>1</th>\n",
              "      <td>the witcher</td>\n",
              "      <td>game of thrones</td>\n",
              "      <td>4</td>\n",
              "    </tr>\n",
              "    <tr>\n",
              "      <th>2</th>\n",
              "      <td>the witcher</td>\n",
              "      <td>assassin's creed</td>\n",
              "      <td>3</td>\n",
              "    </tr>\n",
              "    <tr>\n",
              "      <th>3</th>\n",
              "      <td>the witcher</td>\n",
              "      <td>the mandalorian</td>\n",
              "      <td>2</td>\n",
              "    </tr>\n",
              "    <tr>\n",
              "      <th>4</th>\n",
              "      <td>the witcher</td>\n",
              "      <td>superman</td>\n",
              "      <td>1</td>\n",
              "    </tr>\n",
              "    <tr>\n",
              "      <th>0</th>\n",
              "      <td>the last kingdom</td>\n",
              "      <td>vikings timeline</td>\n",
              "      <td>5</td>\n",
              "    </tr>\n",
              "    <tr>\n",
              "      <th>1</th>\n",
              "      <td>the last kingdom</td>\n",
              "      <td>game of thrones</td>\n",
              "      <td>4</td>\n",
              "    </tr>\n",
              "    <tr>\n",
              "      <th>2</th>\n",
              "      <td>the last kingdom</td>\n",
              "      <td>outlander</td>\n",
              "      <td>3</td>\n",
              "    </tr>\n",
              "    <tr>\n",
              "      <th>3</th>\n",
              "      <td>the last kingdom</td>\n",
              "      <td>real history</td>\n",
              "      <td>2</td>\n",
              "    </tr>\n",
              "    <tr>\n",
              "      <th>4</th>\n",
              "      <td>the last kingdom</td>\n",
              "      <td>barbarians</td>\n",
              "      <td>1</td>\n",
              "    </tr>\n",
              "  </tbody>\n",
              "</table>\n",
              "</div>"
            ],
            "text/plain": [
              "              source              target  weight\n",
              "0    game of thrones   lord of the rings       5\n",
              "1    game of thrones        breaking bad       4\n",
              "2    game of thrones             vikings       3\n",
              "3    game of thrones         the witcher       2\n",
              "4    game of thrones    the last kingdom       1\n",
              "0  lord of the rings  harry potter memes       5\n",
              "1  lord of the rings   the hobbit movies       4\n",
              "2  lord of the rings     game of thrones       3\n",
              "3  lord of the rings  harry potter sales       2\n",
              "4  lord of the rings              narnia       1\n",
              "0       breaking bad    better call saul       5\n",
              "1       breaking bad               ozark       4\n",
              "2       breaking bad     game of thrones       3\n",
              "3       breaking bad            sopranos       2\n",
              "4       breaking bad            the wire       1\n",
              "0            vikings    bears highlights       5\n",
              "1            vikings       bears history       4\n",
              "2            vikings             cowboys       3\n",
              "3            vikings             packers       2\n",
              "4            vikings            seahawks       1\n",
              "0        the witcher              skyrim       5\n",
              "1        the witcher     game of thrones       4\n",
              "2        the witcher    assassin's creed       3\n",
              "3        the witcher     the mandalorian       2\n",
              "4        the witcher            superman       1\n",
              "0   the last kingdom    vikings timeline       5\n",
              "1   the last kingdom     game of thrones       4\n",
              "2   the last kingdom           outlander       3\n",
              "3   the last kingdom        real history       2\n",
              "4   the last kingdom          barbarians       1"
            ]
          },
          "metadata": {
            "tags": []
          },
          "execution_count": 81
        }
      ]
    },
    {
      "cell_type": "code",
      "metadata": {
        "id": "3CUnda1Hf2wO"
      },
      "source": [
        "suggestion_df.to_csv('graph.csv')"
      ],
      "execution_count": null,
      "outputs": []
    },
    {
      "cell_type": "markdown",
      "metadata": {
        "id": "rjStoKhNuEGE"
      },
      "source": [
        "Визуализируем сведения о запросах в виде графа.\n",
        "\n",
        "Сначала подготовим данные под нужный формат для графа. Размер (size) и цвет (color) вершины графа определяется количеством (count) случаев, в которых соответствующий запрос появляется в списке рекомендаций. В результате получается, что чем больше вершина — тем важнее представляемая ей концепция.\n"
      ]
    },
    {
      "cell_type": "code",
      "metadata": {
        "id": "4FprAA_KtvIK"
      },
      "source": [
        "nodes = []\n",
        "for key, value in suggestion_df['source'].iteritems():\n",
        "  nodes.append(value)\n",
        "for key, value in suggestion_df['target'].iteritems():\n",
        "  nodes.append(value)\n",
        "\n",
        "nodes_dict = {}\n",
        "for i in nodes:\n",
        "  if i not in nodes_dict.keys():\n",
        "    nodes_dict[i] = nodes.count(i)\n",
        "\n",
        "graph_nodes = []\n",
        "for i in nodes_dict.keys():\n",
        "    graph_nodes.append((i, {'count' : nodes_dict.get(i)}))"
      ],
      "execution_count": null,
      "outputs": []
    },
    {
      "cell_type": "code",
      "metadata": {
        "colab": {
          "base_uri": "https://localhost:8080/"
        },
        "id": "MSklxHo-xMYd",
        "outputId": "e952cc4b-ae96-42c0-bd5d-7ae4a7c84b97"
      },
      "source": [
        "#проверим формат\n",
        "\n",
        "print(graph_nodes)"
      ],
      "execution_count": null,
      "outputs": [
        {
          "output_type": "stream",
          "text": [
            "[('game of thrones', {'count': 9}), ('lord of the rings', {'count': 6}), ('breaking bad', {'count': 6}), ('vikings', {'count': 6}), ('the witcher', {'count': 6}), ('the last kingdom', {'count': 6}), ('harry potter memes', {'count': 1}), ('the hobbit movies', {'count': 1}), ('harry potter sales', {'count': 1}), ('narnia', {'count': 1}), ('better call saul', {'count': 1}), ('ozark', {'count': 1}), ('sopranos', {'count': 1}), ('the wire', {'count': 1}), ('bears highlights', {'count': 1}), ('bears history', {'count': 1}), ('cowboys', {'count': 1}), ('packers', {'count': 1}), ('seahawks', {'count': 1}), ('skyrim', {'count': 1}), (\"assassin's creed\", {'count': 1}), ('the mandalorian', {'count': 1}), ('superman', {'count': 1}), ('vikings timeline', {'count': 1}), ('outlander', {'count': 1}), ('real history', {'count': 1}), ('barbarians', {'count': 1})]\n"
          ],
          "name": "stdout"
        }
      ]
    },
    {
      "cell_type": "markdown",
      "metadata": {
        "id": "8m0L2G9fug_U"
      },
      "source": [
        "Вес ребра (weight), соединяющего запрос A и B, мы уже знаем. Это — ранг рекомендации из списка автозавершения, изменяющийся от 1 до 5. Для того чтобы сделать граф неориентированным, можно просто сложить веса связей между вершинами, идущими в двух направлениях (то есть — от A к B, и, если такая связь есть, от B к A). Это даст нам веса рёбер в диапазоне от 1 до 10.\n",
        "\n",
        "Длина ребра (distance), таким образом, будет вычисляться по формуле 11 — вес ребра. Мы выбрали здесь число 11 из-за того, что максимальный вес ребра — 10 (ребро будет иметь такой вес в том случае, если обе рекомендации появляются на самом верху списков автозавершения друг для друга). В результате минимальным расстоянием между запросами будет 1."
      ]
    },
    {
      "cell_type": "code",
      "metadata": {
        "id": "PZlSHxvdutK5"
      },
      "source": [
        "edges = []\n",
        "\n",
        "for index, row in suggestion_df.iterrows():\n",
        "    edges.append((row['source'], row['target'], {'weight' : row['weight'], 'distance' : 11 - row['weight']}))"
      ],
      "execution_count": null,
      "outputs": []
    },
    {
      "cell_type": "code",
      "metadata": {
        "id": "Pmyz89Mcw_-b"
      },
      "source": [
        "#формат_ребер\n",
        "\n",
        "edges = [('game of thrones', 'lord of the rings', {'weight': 8, 'distance': 3}), \n",
        "('game of thrones', 'breaking bad', {'weight': 7, 'distance':4}), \n",
        "('game of thrones', 'vikings', {'weight': 3, 'distance': 8}), \n",
        "('game of thrones', 'the witcher', {'weight': 6, 'distance': 5}), \n",
        "('game of thrones', 'the last kingdom', {'weight': 5, 'distance': 6}), \n",
        "('lord of the rings', 'harry potter memes', {'weight': 5, 'distance': 6}), \n",
        "('lord of the rings', 'the hobbit movies', {'weight': 4, 'distance': 7}), \n",
        "('lord of the rings', 'harry potter sales', {'weight': 2, 'distance': 9}), \n",
        "('lord of the rings', 'narnia', {'weight': 1, 'distance': 10}), \n",
        "('breaking bad', 'better call saul', {'weight': 5, 'distance': 6}), \n",
        "('breaking bad', 'ozark', {'weight': 4, 'distance': 7}), \n",
        "('breaking bad', 'sopranos', {'weight': 2, 'distance': 9}), \n",
        "('breaking bad', 'the wire', {'weight': 1, 'distance': 10}), \n",
        "('vikings', 'bears predictions', {'weight': 5, 'distance': 6}), \n",
        "('vikings', 'cowboys', {'weight': 4, 'distance': 7}), \n",
        "('vikings', 'packers', {'weight': 3, 'distance': 8}), \n",
        "('vikings', 'bears highlights', {'weight': 2, 'distance': 9}), \n",
        "('vikings', 'seahawks', {'weight': 1, 'distance': 10}), \n",
        "('the witcher', 'skyrim', {'weight': 5, 'distance': 6}), \n",
        "('the witcher', \"assassin's creed\", {'weight': 3, 'distance': 8}), \n",
        "('the witcher', 'the mandalorian', {'weight': 2, 'distance': 9}), \n",
        "('the witcher', 'superman', {'weight': 1, 'distance': 10}), \n",
        "('the last kingdom', 'vikings timeline', {'weight': 5, 'distance': 6}), \n",
        "('the last kingdom', 'outlander', {'weight': 3, 'distance': 8}), \n",
        "('the last kingdom', 'real history', {'weight': 2, 'distance': 9}), \n",
        "('the last kingdom', 'barbarians', {'weight': 1, 'distance': 10})]"
      ],
      "execution_count": null,
      "outputs": []
    },
    {
      "cell_type": "code",
      "metadata": {
        "id": "UJhfFerNfW7n"
      },
      "source": [
        "import networkx as nx\n",
        "import matplotlib.pyplot as plt\n",
        "\n",
        "#Формат исходных данных\n",
        "nodes = graph_nodes\n",
        "edges = edges\n",
        "\n",
        "#Построить исходный полный граф\n",
        "G=nx.Graph()\n",
        "G.add_nodes_from(nodes)\n",
        "G.add_edges_from(edges)\n",
        "\n",
        "#Построить эго-граф \n",
        "EG = nx.ego_graph(G, 'game of thrones', distance = 'distance', radius = 20)\n",
        "\n",
        "#Найти двусвязные подграфы\n",
        "subgraphs = nx.algorithms.connectivity.edge_kcomponents.k_edge_subgraphs(EG, k = 3)\n",
        "\n",
        "#Получить подграф, содержащий 'game of thrones'\n",
        "for s in subgraphs:\n",
        "    if 'game of thrones' in s:\n",
        "        break\n",
        "        \n",
        "pruned_EG = EG.subgraph(s)\n",
        "ego_nodes = pruned_EG.nodes()\n",
        "ego_edges = pruned_EG.edges()"
      ],
      "execution_count": null,
      "outputs": []
    },
    {
      "cell_type": "markdown",
      "metadata": {
        "id": "n3aReFpy3l4E"
      },
      "source": [
        "Нас интересует эго-граф для игры престолов, визуализируем его.\n"
      ]
    },
    {
      "cell_type": "code",
      "metadata": {
        "id": "r37cQWno1uZV",
        "colab": {
          "base_uri": "https://localhost:8080/",
          "height": 318
        },
        "outputId": "d10192e9-de14-433d-8a5f-66b6ada5e62d"
      },
      "source": [
        "nx.draw(EG, with_labels= True, node_size = 500, cmap = 'gray',  vmin=0, vmax=255)"
      ],
      "execution_count": null,
      "outputs": [
        {
          "output_type": "display_data",
          "data": {
            "image/png": "[encoded data removed]",
            "text/plain": [
              "<Figure size 432x288 with 1 Axes>"
            ]
          },
          "metadata": {
            "tags": []
          }
        }
      ]
    },
    {
      "cell_type": "markdown",
      "metadata": {
        "id": "KjbPNnQGbVcO"
      },
      "source": [
        "Граф получился, но не такой наглядный как в оригинальной статье (хотя мы учитывали формат входных данных). Воспользуемся предложенной автором Flourish. Вариант из Flourish получился куда нагляднее. \n",
        "\n",
        "Таким образом, мы построили эго-граф по игре престолов, используя поисковые запросы с vs."
      ]
    },
    {
      "cell_type": "markdown",
      "metadata": {
        "id": "aQ-hD7__iS5R"
      },
      "source": [
        "![Снимок.PNG](data:image/png;base64,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)"
      ]
    }
  ]
}