{
  "nbformat": 4,
  "nbformat_minor": 0,
  "metadata": {
    "colab": {
      "name": "HT 2 RS Part 2",
      "provenance": [],
      "collapsed_sections": []
    },
    "kernelspec": {
      "name": "python3",
      "display_name": "Python 3"
    }
  },
  "cells": [
    {
      "cell_type": "markdown",
      "metadata": {
        "id": "dqJB4vZddxw-"
      },
      "source": [
        "**Задание 2.**\n",
        "\n",
        "Мы всё ещё не смотрим в контент, хотя его тут очень много. Попробуйте по этим данным сделать рекомендацию на основе контента.\n",
        "\n",
        "Идея тут может быть такой: смотрим на описание фильмов тэгами, а когда пользователь ставит оценку за фильм, мы её засчитываем как оценку за тэги."
      ]
    },
    {
      "cell_type": "code",
      "metadata": {
        "id": "fXLLslSRdtpU"
      },
      "source": [
        "import numpy as np \n",
        "import pandas as pd \n",
        "\n",
        "import warnings\n",
        "warnings.filterwarnings(\"ignore\")"
      ],
      "execution_count": null,
      "outputs": []
    },
    {
      "cell_type": "code",
      "metadata": {
        "id": "lImpjhttd2mU",
        "colab": {
          "base_uri": "https://localhost:8080/"
        },
        "outputId": "aad974f5-3319-4b92-ca5c-8e26a51e7cd8"
      },
      "source": [
        "!pip install PyDrive"
      ],
      "execution_count": null,
      "outputs": [
        {
          "output_type": "stream",
          "text": [
            "Requirement already satisfied: PyDrive in /usr/local/lib/python3.6/dist-packages (1.3.1)\n",
            "Requirement already satisfied: google-api-python-client>=1.2 in /usr/local/lib/python3.6/dist-packages (from PyDrive) (1.7.12)\n",
            "Requirement already satisfied: oauth2client>=4.0.0 in /usr/local/lib/python3.6/dist-packages (from PyDrive) (4.1.3)\n",
            "Requirement already satisfied: PyYAML>=3.0 in /usr/local/lib/python3.6/dist-packages (from PyDrive) (3.13)\n",
            "Requirement already satisfied: six<2dev,>=1.6.1 in /usr/local/lib/python3.6/dist-packages (from google-api-python-client>=1.2->PyDrive) (1.15.0)\n",
            "Requirement already satisfied: httplib2<1dev,>=0.17.0 in /usr/local/lib/python3.6/dist-packages (from google-api-python-client>=1.2->PyDrive) (0.17.4)\n",
            "Requirement already satisfied: uritemplate<4dev,>=3.0.0 in /usr/local/lib/python3.6/dist-packages (from google-api-python-client>=1.2->PyDrive) (3.0.1)\n",
            "Requirement already satisfied: google-auth-httplib2>=0.0.3 in /usr/local/lib/python3.6/dist-packages (from google-api-python-client>=1.2->PyDrive) (0.0.4)\n",
            "Requirement already satisfied: google-auth>=1.4.1 in /usr/local/lib/python3.6/dist-packages (from google-api-python-client>=1.2->PyDrive) (1.17.2)\n",
            "Requirement already satisfied: pyasn1>=0.1.7 in /usr/local/lib/python3.6/dist-packages (from oauth2client>=4.0.0->PyDrive) (0.4.8)\n",
            "Requirement already satisfied: rsa>=3.1.4 in /usr/local/lib/python3.6/dist-packages (from oauth2client>=4.0.0->PyDrive) (4.6)\n",
            "Requirement already satisfied: pyasn1-modules>=0.0.5 in /usr/local/lib/python3.6/dist-packages (from oauth2client>=4.0.0->PyDrive) (0.2.8)\n",
            "Requirement already satisfied: setuptools>=40.3.0 in /usr/local/lib/python3.6/dist-packages (from google-auth>=1.4.1->google-api-python-client>=1.2->PyDrive) (50.3.2)\n",
            "Requirement already satisfied: cachetools<5.0,>=2.0.0 in /usr/local/lib/python3.6/dist-packages (from google-auth>=1.4.1->google-api-python-client>=1.2->PyDrive) (4.1.1)\n"
          ],
          "name": "stdout"
        }
      ]
    },
    {
      "cell_type": "code",
      "metadata": {
        "id": "faPMeFvWd5qs"
      },
      "source": [
        "from google.colab import auth\n",
        "from pydrive.auth import GoogleAuth\n",
        "from oauth2client.client import GoogleCredentials\n",
        "from pydrive.drive import GoogleDrive\n",
        "\n",
        "auth.authenticate_user()\n",
        "gauth = GoogleAuth()\n",
        "gauth.credentials = GoogleCredentials.get_application_default()\n",
        "drive = GoogleDrive(gauth)"
      ],
      "execution_count": null,
      "outputs": []
    },
    {
      "cell_type": "code",
      "metadata": {
        "id": "sMdBXg3Nd-mq"
      },
      "source": [
        "downloaded = drive.CreateFile({'id':\"1dGbV43VYV8yzHeZHxvIsVIGYzyzukjWd\"}) \n",
        "downloaded.GetContentFile('ratings.csv')\n",
        "rating=pd.read_csv('ratings.csv')"
      ],
      "execution_count": null,
      "outputs": []
    },
    {
      "cell_type": "code",
      "metadata": {
        "id": "NYiEqz9ueB7B"
      },
      "source": [
        "downloaded = drive.CreateFile({'id':\"1W0L7Vr02vT5PSGWGMk4BLtSrg-aFaP75\"}) \n",
        "downloaded.GetContentFile('movies.csv')\n",
        "movies=pd.read_csv('movies.csv')"
      ],
      "execution_count": null,
      "outputs": []
    },
    {
      "cell_type": "code",
      "metadata": {
        "id": "OBG5MPTueCjK"
      },
      "source": [
        "downloaded = drive.CreateFile({'id':\"1Udg_1EuRU299LdX09Vkz9x5-hKMbxLl5\"}) \n",
        "downloaded.GetContentFile('genome-tags.csv')\n",
        "tags=pd.read_csv('genome-tags.csv')"
      ],
      "execution_count": null,
      "outputs": []
    },
    {
      "cell_type": "code",
      "metadata": {
        "id": "HjJOVzUneFlP"
      },
      "source": [
        "downloaded = drive.CreateFile({'id':\"108PsHwMEnzWprOwTxh-zCseF0unGxuhl\"}) \n",
        "downloaded.GetContentFile('genome-scores.csv')\n",
        "scores=pd.read_csv('genome-scores.csv')"
      ],
      "execution_count": null,
      "outputs": []
    },
    {
      "cell_type": "markdown",
      "metadata": {
        "id": "p7LLypI_g1Jh"
      },
      "source": [
        "Составим сводную таблицу фильмов и их тегов."
      ]
    },
    {
      "cell_type": "code",
      "metadata": {
        "id": "6lR14e-8eKRf"
      },
      "source": [
        "movies_tags = pd.merge(scores, tags,on = 'tagId', how = 'left')\n",
        "movies_with_tags = pd.merge(movies, movies_tags)\n",
        "movies_with_tags = movies_with_tags.drop(['genres', 'tagId'], axis = 1)"
      ],
      "execution_count": null,
      "outputs": []
    },
    {
      "cell_type": "code",
      "metadata": {
        "id": "gp5JXk6BgExW",
        "colab": {
          "base_uri": "https://localhost:8080/",
          "height": 197
        },
        "outputId": "6a6cdb05-62da-4032-8652-c7c51de870d3"
      },
      "source": [
        "movies_with_tags.head()"
      ],
      "execution_count": null,
      "outputs": [
        {
          "output_type": "execute_result",
          "data": {
            "text/html": [
              "<div>\n",
              "<style scoped>\n",
              "    .dataframe tbody tr th:only-of-type {\n",
              "        vertical-align: middle;\n",
              "    }\n",
              "\n",
              "    .dataframe tbody tr th {\n",
              "        vertical-align: top;\n",
              "    }\n",
              "\n",
              "    .dataframe thead th {\n",
              "        text-align: right;\n",
              "    }\n",
              "</style>\n",
              "<table border=\"1\" class=\"dataframe\">\n",
              "  <thead>\n",
              "    <tr style=\"text-align: right;\">\n",
              "      <th></th>\n",
              "      <th>movieId</th>\n",
              "      <th>title</th>\n",
              "      <th>relevance</th>\n",
              "      <th>tag</th>\n",
              "    </tr>\n",
              "  </thead>\n",
              "  <tbody>\n",
              "    <tr>\n",
              "      <th>0</th>\n",
              "      <td>1</td>\n",
              "      <td>Toy Story (1995)</td>\n",
              "      <td>0.02875</td>\n",
              "      <td>007</td>\n",
              "    </tr>\n",
              "    <tr>\n",
              "      <th>1</th>\n",
              "      <td>1</td>\n",
              "      <td>Toy Story (1995)</td>\n",
              "      <td>0.02375</td>\n",
              "      <td>007 (series)</td>\n",
              "    </tr>\n",
              "    <tr>\n",
              "      <th>2</th>\n",
              "      <td>1</td>\n",
              "      <td>Toy Story (1995)</td>\n",
              "      <td>0.06250</td>\n",
              "      <td>18th century</td>\n",
              "    </tr>\n",
              "    <tr>\n",
              "      <th>3</th>\n",
              "      <td>1</td>\n",
              "      <td>Toy Story (1995)</td>\n",
              "      <td>0.07575</td>\n",
              "      <td>1920s</td>\n",
              "    </tr>\n",
              "    <tr>\n",
              "      <th>4</th>\n",
              "      <td>1</td>\n",
              "      <td>Toy Story (1995)</td>\n",
              "      <td>0.14075</td>\n",
              "      <td>1930s</td>\n",
              "    </tr>\n",
              "  </tbody>\n",
              "</table>\n",
              "</div>"
            ],
            "text/plain": [
              "   movieId             title  relevance           tag\n",
              "0        1  Toy Story (1995)    0.02875           007\n",
              "1        1  Toy Story (1995)    0.02375  007 (series)\n",
              "2        1  Toy Story (1995)    0.06250  18th century\n",
              "3        1  Toy Story (1995)    0.07575         1920s\n",
              "4        1  Toy Story (1995)    0.14075         1930s"
            ]
          },
          "metadata": {
            "tags": []
          },
          "execution_count": 56
        }
      ]
    },
    {
      "cell_type": "markdown",
      "metadata": {
        "id": "F1HJr3EfimuS"
      },
      "source": [
        "Далее на примере одного пользователя те оценки, которые он ставил за фильмы, засчитаем как оценку за теги.\n",
        "\n",
        "Чтобы получить взвешенную оценку, оценку пользователя будем умножать на коэффициент релеватности тега.\n"
      ]
    },
    {
      "cell_type": "code",
      "metadata": {
        "id": "X9xnRi8cjQXr"
      },
      "source": [
        "data = pd.merge(movies, rating)\n",
        "data = data.drop(columns = ['genres', 'timestamp'], axis = 1)"
      ],
      "execution_count": null,
      "outputs": []
    },
    {
      "cell_type": "code",
      "metadata": {
        "id": "r-WKZ_TGg_Rg",
        "colab": {
          "base_uri": "https://localhost:8080/"
        },
        "outputId": "541a5cb8-10ab-41d8-da33-aca075043ef4"
      },
      "source": [
        "all_users = rating['userId'].value_counts()\n",
        "user = all_users.sample(1).index\n",
        "user"
      ],
      "execution_count": null,
      "outputs": [
        {
          "output_type": "execute_result",
          "data": {
            "text/plain": [
              "Int64Index([92104], dtype='int64')"
            ]
          },
          "metadata": {
            "tags": []
          },
          "execution_count": 66
        }
      ]
    },
    {
      "cell_type": "code",
      "metadata": {
        "id": "BiKf1rz4jIlF",
        "colab": {
          "base_uri": "https://localhost:8080/",
          "height": 197
        },
        "outputId": "80922b5a-0977-4616-8733-342fa81a7dbc"
      },
      "source": [
        "user_movies = data[data.userId == user[0]]\n",
        "\n",
        "user_scores = pd.merge(movies_with_tags, user_movies, how = 'inner', on = 'movieId')\n",
        "user_scores = user_scores.drop(columns='title_y', axis = 1)\n",
        "\n",
        "user_scores['score'] = user_scores['rating'] * user_scores['relevance']\n",
        "user_scores.head()"
      ],
      "execution_count": null,
      "outputs": [
        {
          "output_type": "execute_result",
          "data": {
            "text/html": [
              "<div>\n",
              "<style scoped>\n",
              "    .dataframe tbody tr th:only-of-type {\n",
              "        vertical-align: middle;\n",
              "    }\n",
              "\n",
              "    .dataframe tbody tr th {\n",
              "        vertical-align: top;\n",
              "    }\n",
              "\n",
              "    .dataframe thead th {\n",
              "        text-align: right;\n",
              "    }\n",
              "</style>\n",
              "<table border=\"1\" class=\"dataframe\">\n",
              "  <thead>\n",
              "    <tr style=\"text-align: right;\">\n",
              "      <th></th>\n",
              "      <th>movieId</th>\n",
              "      <th>title_x</th>\n",
              "      <th>relevance</th>\n",
              "      <th>tag</th>\n",
              "      <th>userId</th>\n",
              "      <th>rating</th>\n",
              "      <th>score</th>\n",
              "    </tr>\n",
              "  </thead>\n",
              "  <tbody>\n",
              "    <tr>\n",
              "      <th>0</th>\n",
              "      <td>158</td>\n",
              "      <td>Casper (1995)</td>\n",
              "      <td>0.03850</td>\n",
              "      <td>007</td>\n",
              "      <td>92104</td>\n",
              "      <td>3.0</td>\n",
              "      <td>0.11550</td>\n",
              "    </tr>\n",
              "    <tr>\n",
              "      <th>1</th>\n",
              "      <td>158</td>\n",
              "      <td>Casper (1995)</td>\n",
              "      <td>0.04450</td>\n",
              "      <td>007 (series)</td>\n",
              "      <td>92104</td>\n",
              "      <td>3.0</td>\n",
              "      <td>0.13350</td>\n",
              "    </tr>\n",
              "    <tr>\n",
              "      <th>2</th>\n",
              "      <td>158</td>\n",
              "      <td>Casper (1995)</td>\n",
              "      <td>0.06575</td>\n",
              "      <td>18th century</td>\n",
              "      <td>92104</td>\n",
              "      <td>3.0</td>\n",
              "      <td>0.19725</td>\n",
              "    </tr>\n",
              "    <tr>\n",
              "      <th>3</th>\n",
              "      <td>158</td>\n",
              "      <td>Casper (1995)</td>\n",
              "      <td>0.04025</td>\n",
              "      <td>1920s</td>\n",
              "      <td>92104</td>\n",
              "      <td>3.0</td>\n",
              "      <td>0.12075</td>\n",
              "    </tr>\n",
              "    <tr>\n",
              "      <th>4</th>\n",
              "      <td>158</td>\n",
              "      <td>Casper (1995)</td>\n",
              "      <td>0.05325</td>\n",
              "      <td>1930s</td>\n",
              "      <td>92104</td>\n",
              "      <td>3.0</td>\n",
              "      <td>0.15975</td>\n",
              "    </tr>\n",
              "  </tbody>\n",
              "</table>\n",
              "</div>"
            ],
            "text/plain": [
              "   movieId        title_x  relevance           tag  userId  rating    score\n",
              "0      158  Casper (1995)    0.03850           007   92104     3.0  0.11550\n",
              "1      158  Casper (1995)    0.04450  007 (series)   92104     3.0  0.13350\n",
              "2      158  Casper (1995)    0.06575  18th century   92104     3.0  0.19725\n",
              "3      158  Casper (1995)    0.04025         1920s   92104     3.0  0.12075\n",
              "4      158  Casper (1995)    0.05325         1930s   92104     3.0  0.15975"
            ]
          },
          "metadata": {
            "tags": []
          },
          "execution_count": 67
        }
      ]
    },
    {
      "cell_type": "markdown",
      "metadata": {
        "id": "OkHN-2Ttogvw"
      },
      "source": [
        "Оставляем только те теги, где score больше 3.5."
      ]
    },
    {
      "cell_type": "code",
      "metadata": {
        "id": "de5VUv_Ioffa"
      },
      "source": [
        "user_scores = user_scores[user_scores.score >= 3.5]"
      ],
      "execution_count": null,
      "outputs": []
    },
    {
      "cell_type": "code",
      "metadata": {
        "id": "uu0jdtQdo-oR",
        "colab": {
          "base_uri": "https://localhost:8080/",
          "height": 406
        },
        "outputId": "de4cff1a-b48f-4fc3-9361-71be90481104"
      },
      "source": [
        "user_scores"
      ],
      "execution_count": null,
      "outputs": [
        {
          "output_type": "execute_result",
          "data": {
            "text/html": [
              "<div>\n",
              "<style scoped>\n",
              "    .dataframe tbody tr th:only-of-type {\n",
              "        vertical-align: middle;\n",
              "    }\n",
              "\n",
              "    .dataframe tbody tr th {\n",
              "        vertical-align: top;\n",
              "    }\n",
              "\n",
              "    .dataframe thead th {\n",
              "        text-align: right;\n",
              "    }\n",
              "</style>\n",
              "<table border=\"1\" class=\"dataframe\">\n",
              "  <thead>\n",
              "    <tr style=\"text-align: right;\">\n",
              "      <th></th>\n",
              "      <th>movieId</th>\n",
              "      <th>title_x</th>\n",
              "      <th>relevance</th>\n",
              "      <th>tag</th>\n",
              "      <th>userId</th>\n",
              "      <th>rating</th>\n",
              "      <th>score</th>\n",
              "    </tr>\n",
              "  </thead>\n",
              "  <tbody>\n",
              "    <tr>\n",
              "      <th>2316</th>\n",
              "      <td>455</td>\n",
              "      <td>Free Willy (1993)</td>\n",
              "      <td>0.92800</td>\n",
              "      <td>animal movie</td>\n",
              "      <td>92104</td>\n",
              "      <td>4.0</td>\n",
              "      <td>3.712</td>\n",
              "    </tr>\n",
              "    <tr>\n",
              "      <th>2317</th>\n",
              "      <td>455</td>\n",
              "      <td>Free Willy (1993)</td>\n",
              "      <td>0.90900</td>\n",
              "      <td>animals</td>\n",
              "      <td>92104</td>\n",
              "      <td>4.0</td>\n",
              "      <td>3.636</td>\n",
              "    </tr>\n",
              "    <tr>\n",
              "      <th>2458</th>\n",
              "      <td>455</td>\n",
              "      <td>Free Willy (1993)</td>\n",
              "      <td>0.92200</td>\n",
              "      <td>childhood</td>\n",
              "      <td>92104</td>\n",
              "      <td>4.0</td>\n",
              "      <td>3.688</td>\n",
              "    </tr>\n",
              "    <tr>\n",
              "      <th>2459</th>\n",
              "      <td>455</td>\n",
              "      <td>Free Willy (1993)</td>\n",
              "      <td>0.95025</td>\n",
              "      <td>children</td>\n",
              "      <td>92104</td>\n",
              "      <td>4.0</td>\n",
              "      <td>3.801</td>\n",
              "    </tr>\n",
              "    <tr>\n",
              "      <th>2629</th>\n",
              "      <td>455</td>\n",
              "      <td>Free Willy (1993)</td>\n",
              "      <td>0.97100</td>\n",
              "      <td>family</td>\n",
              "      <td>92104</td>\n",
              "      <td>4.0</td>\n",
              "      <td>3.884</td>\n",
              "    </tr>\n",
              "    <tr>\n",
              "      <th>...</th>\n",
              "      <td>...</td>\n",
              "      <td>...</td>\n",
              "      <td>...</td>\n",
              "      <td>...</td>\n",
              "      <td>...</td>\n",
              "      <td>...</td>\n",
              "      <td>...</td>\n",
              "    </tr>\n",
              "    <tr>\n",
              "      <th>56904</th>\n",
              "      <td>48322</td>\n",
              "      <td>Jackass Number Two (2006)</td>\n",
              "      <td>0.94925</td>\n",
              "      <td>hilarious</td>\n",
              "      <td>92104</td>\n",
              "      <td>4.0</td>\n",
              "      <td>3.797</td>\n",
              "    </tr>\n",
              "    <tr>\n",
              "      <th>56932</th>\n",
              "      <td>48322</td>\n",
              "      <td>Jackass Number Two (2006)</td>\n",
              "      <td>0.87625</td>\n",
              "      <td>idiotic</td>\n",
              "      <td>92104</td>\n",
              "      <td>4.0</td>\n",
              "      <td>3.505</td>\n",
              "    </tr>\n",
              "    <tr>\n",
              "      <th>57024</th>\n",
              "      <td>48322</td>\n",
              "      <td>Jackass Number Two (2006)</td>\n",
              "      <td>0.98875</td>\n",
              "      <td>male nudity</td>\n",
              "      <td>92104</td>\n",
              "      <td>4.0</td>\n",
              "      <td>3.955</td>\n",
              "    </tr>\n",
              "    <tr>\n",
              "      <th>57077</th>\n",
              "      <td>48322</td>\n",
              "      <td>Jackass Number Two (2006)</td>\n",
              "      <td>0.90225</td>\n",
              "      <td>mtv</td>\n",
              "      <td>92104</td>\n",
              "      <td>4.0</td>\n",
              "      <td>3.609</td>\n",
              "    </tr>\n",
              "    <tr>\n",
              "      <th>57379</th>\n",
              "      <td>48322</td>\n",
              "      <td>Jackass Number Two (2006)</td>\n",
              "      <td>0.98300</td>\n",
              "      <td>stupidity</td>\n",
              "      <td>92104</td>\n",
              "      <td>4.0</td>\n",
              "      <td>3.932</td>\n",
              "    </tr>\n",
              "  </tbody>\n",
              "</table>\n",
              "<p>328 rows × 7 columns</p>\n",
              "</div>"
            ],
            "text/plain": [
              "       movieId                    title_x  relevance  ... userId  rating  score\n",
              "2316       455          Free Willy (1993)    0.92800  ...  92104     4.0  3.712\n",
              "2317       455          Free Willy (1993)    0.90900  ...  92104     4.0  3.636\n",
              "2458       455          Free Willy (1993)    0.92200  ...  92104     4.0  3.688\n",
              "2459       455          Free Willy (1993)    0.95025  ...  92104     4.0  3.801\n",
              "2629       455          Free Willy (1993)    0.97100  ...  92104     4.0  3.884\n",
              "...        ...                        ...        ...  ...    ...     ...    ...\n",
              "56904    48322  Jackass Number Two (2006)    0.94925  ...  92104     4.0  3.797\n",
              "56932    48322  Jackass Number Two (2006)    0.87625  ...  92104     4.0  3.505\n",
              "57024    48322  Jackass Number Two (2006)    0.98875  ...  92104     4.0  3.955\n",
              "57077    48322  Jackass Number Two (2006)    0.90225  ...  92104     4.0  3.609\n",
              "57379    48322  Jackass Number Two (2006)    0.98300  ...  92104     4.0  3.932\n",
              "\n",
              "[328 rows x 7 columns]"
            ]
          },
          "metadata": {
            "tags": []
          },
          "execution_count": 69
        }
      ]
    },
    {
      "cell_type": "markdown",
      "metadata": {
        "id": "A-WzHXC6pYTJ"
      },
      "source": [
        "Теги ранжируем по score и оставляем топ-k уникальных. Возьмем 30.\n"
      ]
    },
    {
      "cell_type": "code",
      "metadata": {
        "id": "GiAoHiqIpV9Z",
        "colab": {
          "base_uri": "https://localhost:8080/",
          "height": 406
        },
        "outputId": "17a967b9-d217-40e2-bf45-f7a959d87483"
      },
      "source": [
        "user_scores = user_scores.sort_values(by = 'score', ascending= False)\n",
        "user_scores"
      ],
      "execution_count": null,
      "outputs": [
        {
          "output_type": "execute_result",
          "data": {
            "text/html": [
              "<div>\n",
              "<style scoped>\n",
              "    .dataframe tbody tr th:only-of-type {\n",
              "        vertical-align: middle;\n",
              "    }\n",
              "\n",
              "    .dataframe tbody tr th {\n",
              "        vertical-align: top;\n",
              "    }\n",
              "\n",
              "    .dataframe thead th {\n",
              "        text-align: right;\n",
              "    }\n",
              "</style>\n",
              "<table border=\"1\" class=\"dataframe\">\n",
              "  <thead>\n",
              "    <tr style=\"text-align: right;\">\n",
              "      <th></th>\n",
              "      <th>movieId</th>\n",
              "      <th>title_x</th>\n",
              "      <th>relevance</th>\n",
              "      <th>tag</th>\n",
              "      <th>userId</th>\n",
              "      <th>rating</th>\n",
              "      <th>score</th>\n",
              "    </tr>\n",
              "  </thead>\n",
              "  <tbody>\n",
              "    <tr>\n",
              "      <th>44126</th>\n",
              "      <td>40819</td>\n",
              "      <td>Walk the Line (2005)</td>\n",
              "      <td>0.99125</td>\n",
              "      <td>biopic</td>\n",
              "      <td>92104</td>\n",
              "      <td>5.0</td>\n",
              "      <td>4.95625</td>\n",
              "    </tr>\n",
              "    <tr>\n",
              "      <th>44124</th>\n",
              "      <td>40819</td>\n",
              "      <td>Walk the Line (2005)</td>\n",
              "      <td>0.98225</td>\n",
              "      <td>biographical</td>\n",
              "      <td>92104</td>\n",
              "      <td>5.0</td>\n",
              "      <td>4.91125</td>\n",
              "    </tr>\n",
              "    <tr>\n",
              "      <th>41868</th>\n",
              "      <td>37741</td>\n",
              "      <td>Capote (2005)</td>\n",
              "      <td>0.98150</td>\n",
              "      <td>biographical</td>\n",
              "      <td>92104</td>\n",
              "      <td>5.0</td>\n",
              "      <td>4.90750</td>\n",
              "    </tr>\n",
              "    <tr>\n",
              "      <th>44738</th>\n",
              "      <td>40819</td>\n",
              "      <td>Walk the Line (2005)</td>\n",
              "      <td>0.97500</td>\n",
              "      <td>oscar (best actress)</td>\n",
              "      <td>92104</td>\n",
              "      <td>5.0</td>\n",
              "      <td>4.87500</td>\n",
              "    </tr>\n",
              "    <tr>\n",
              "      <th>44678</th>\n",
              "      <td>40819</td>\n",
              "      <td>Walk the Line (2005)</td>\n",
              "      <td>0.96925</td>\n",
              "      <td>musicians</td>\n",
              "      <td>92104</td>\n",
              "      <td>5.0</td>\n",
              "      <td>4.84625</td>\n",
              "    </tr>\n",
              "    <tr>\n",
              "      <th>...</th>\n",
              "      <td>...</td>\n",
              "      <td>...</td>\n",
              "      <td>...</td>\n",
              "      <td>...</td>\n",
              "      <td>...</td>\n",
              "      <td>...</td>\n",
              "      <td>...</td>\n",
              "    </tr>\n",
              "    <tr>\n",
              "      <th>50701</th>\n",
              "      <td>44665</td>\n",
              "      <td>Lucky Number Slevin (2006)</td>\n",
              "      <td>0.87675</td>\n",
              "      <td>vengeance</td>\n",
              "      <td>92104</td>\n",
              "      <td>4.0</td>\n",
              "      <td>3.50700</td>\n",
              "    </tr>\n",
              "    <tr>\n",
              "      <th>45861</th>\n",
              "      <td>41285</td>\n",
              "      <td>Match Point (2005)</td>\n",
              "      <td>0.77900</td>\n",
              "      <td>original</td>\n",
              "      <td>92104</td>\n",
              "      <td>4.5</td>\n",
              "      <td>3.50550</td>\n",
              "    </tr>\n",
              "    <tr>\n",
              "      <th>7348</th>\n",
              "      <td>946</td>\n",
              "      <td>To Be or Not to Be (1942)</td>\n",
              "      <td>0.87625</td>\n",
              "      <td>jews</td>\n",
              "      <td>92104</td>\n",
              "      <td>4.0</td>\n",
              "      <td>3.50500</td>\n",
              "    </tr>\n",
              "    <tr>\n",
              "      <th>56932</th>\n",
              "      <td>48322</td>\n",
              "      <td>Jackass Number Two (2006)</td>\n",
              "      <td>0.87625</td>\n",
              "      <td>idiotic</td>\n",
              "      <td>92104</td>\n",
              "      <td>4.0</td>\n",
              "      <td>3.50500</td>\n",
              "    </tr>\n",
              "    <tr>\n",
              "      <th>7037</th>\n",
              "      <td>946</td>\n",
              "      <td>To Be or Not to Be (1942)</td>\n",
              "      <td>0.87525</td>\n",
              "      <td>criterion</td>\n",
              "      <td>92104</td>\n",
              "      <td>4.0</td>\n",
              "      <td>3.50100</td>\n",
              "    </tr>\n",
              "  </tbody>\n",
              "</table>\n",
              "<p>328 rows × 7 columns</p>\n",
              "</div>"
            ],
            "text/plain": [
              "       movieId                     title_x  relevance  ... userId  rating    score\n",
              "44126    40819        Walk the Line (2005)    0.99125  ...  92104     5.0  4.95625\n",
              "44124    40819        Walk the Line (2005)    0.98225  ...  92104     5.0  4.91125\n",
              "41868    37741               Capote (2005)    0.98150  ...  92104     5.0  4.90750\n",
              "44738    40819        Walk the Line (2005)    0.97500  ...  92104     5.0  4.87500\n",
              "44678    40819        Walk the Line (2005)    0.96925  ...  92104     5.0  4.84625\n",
              "...        ...                         ...        ...  ...    ...     ...      ...\n",
              "50701    44665  Lucky Number Slevin (2006)    0.87675  ...  92104     4.0  3.50700\n",
              "45861    41285          Match Point (2005)    0.77900  ...  92104     4.5  3.50550\n",
              "7348       946   To Be or Not to Be (1942)    0.87625  ...  92104     4.0  3.50500\n",
              "56932    48322   Jackass Number Two (2006)    0.87625  ...  92104     4.0  3.50500\n",
              "7037       946   To Be or Not to Be (1942)    0.87525  ...  92104     4.0  3.50100\n",
              "\n",
              "[328 rows x 7 columns]"
            ]
          },
          "metadata": {
            "tags": []
          },
          "execution_count": 70
        }
      ]
    },
    {
      "cell_type": "code",
      "metadata": {
        "id": "PQn_woaXqNo7"
      },
      "source": [
        "user_tags = user_scores['tag'].unique()[:30]"
      ],
      "execution_count": null,
      "outputs": []
    },
    {
      "cell_type": "code",
      "metadata": {
        "id": "Ny0R6f_grOk7",
        "colab": {
          "base_uri": "https://localhost:8080/"
        },
        "outputId": "a4ff9b6a-52cc-4e19-d8bb-3e59ec84edbd"
      },
      "source": [
        "user_tags"
      ],
      "execution_count": null,
      "outputs": [
        {
          "output_type": "execute_result",
          "data": {
            "text/plain": [
              "array(['biopic', 'biographical', 'oscar (best actress)', 'musicians',\n",
              "       'oscar (best actor)', 'based on a book', 'character study',\n",
              "       'great acting', 'drug addiction', 'music', 'biography',\n",
              "       \"writer's life\", 'oscar (best directing)', 'murder', 'writers',\n",
              "       'literature', 'drug abuse', 'based on book', 'dynamic cgi action',\n",
              "       'adapted from:book', 'truman capote', 'imdb top 250', 'sports',\n",
              "       'football', 'disability', 'spelling bee', 'death penalty',\n",
              "       'eccentricity', 'great music', 'big budget'], dtype=object)"
            ]
          },
          "metadata": {
            "tags": []
          },
          "execution_count": 72
        }
      ]
    },
    {
      "cell_type": "markdown",
      "metadata": {
        "id": "ifMhVqW0r0PR"
      },
      "source": [
        "Далее из непросмотренных пользователем фильмов выбираем те, в которых присутствует хотя бы один из этих тегов и его релевантность не ниже 0.65.\n",
        "\n"
      ]
    },
    {
      "cell_type": "code",
      "metadata": {
        "id": "L1Pcmwv-ruXT"
      },
      "source": [
        "movies_with_tags = movies_with_tags[movies_with_tags.relevance >= 0.65]"
      ],
      "execution_count": null,
      "outputs": []
    },
    {
      "cell_type": "code",
      "metadata": {
        "id": "qhtDJQgIvBiC"
      },
      "source": [
        "recommendations = {}\n",
        "\n",
        "for i in movies_with_tags:\n",
        "   for index, row in movies_with_tags.iterrows():\n",
        "     if row['movieId'] not in user_movies and row['tag'] in user_tags:\n",
        "         recommendations[row['title']] = row['tag']"
      ],
      "execution_count": null,
      "outputs": []
    },
    {
      "cell_type": "code",
      "metadata": {
        "id": "YJ_bR-K7slo2",
        "colab": {
          "base_uri": "https://localhost:8080/"
        },
        "outputId": "afd34102-d4c1-4e27-c474-d08ae0f8b8d7"
      },
      "source": [
        "len(recommendations)"
      ],
      "execution_count": null,
      "outputs": [
        {
          "output_type": "execute_result",
          "data": {
            "text/plain": [
              "6428"
            ]
          },
          "metadata": {
            "tags": []
          },
          "execution_count": 75
        }
      ]
    },
    {
      "cell_type": "markdown",
      "metadata": {
        "id": "2sm_vUUS00IF"
      },
      "source": [
        "Мы получили довольно много рекомендаций, даже если учесть, что часть фильмов может дублироваться под разными тегами. Уже на этом этапе мы можем рекомендовать пользователю фильмы по конкретным тегам."
      ]
    },
    {
      "cell_type": "code",
      "metadata": {
        "id": "WyLbK9Rc0yw0"
      },
      "source": [
        "def get_film(d, value):\n",
        "  film_by_tag = []\n",
        "  for k, v in d.items():\n",
        "    if v == value:\n",
        "      film_by_tag.append(k)\n",
        "  return film_by_tag"
      ],
      "execution_count": null,
      "outputs": []
    },
    {
      "cell_type": "code",
      "metadata": {
        "id": "2dSG5vFO38St",
        "colab": {
          "base_uri": "https://localhost:8080/",
          "height": 35
        },
        "outputId": "7ea8ca60-71d1-48e5-a00d-a5172821cb38"
      },
      "source": [
        "user_tags[0]"
      ],
      "execution_count": null,
      "outputs": [
        {
          "output_type": "execute_result",
          "data": {
            "application/vnd.google.colaboratory.intrinsic+json": {
              "type": "string"
            },
            "text/plain": [
              "'biopic'"
            ]
          },
          "metadata": {
            "tags": []
          },
          "execution_count": 77
        }
      ]
    },
    {
      "cell_type": "code",
      "metadata": {
        "id": "Vq0ns1hTT3yp",
        "colab": {
          "base_uri": "https://localhost:8080/"
        },
        "outputId": "62ee7ebe-3971-4e85-c406-a1701e8ffa99"
      },
      "source": [
        "get_film(recommendations, user_tags[0])"
      ],
      "execution_count": null,
      "outputs": [
        {
          "output_type": "execute_result",
          "data": {
            "text/plain": [
              "['Wild Bill (1995)',\n",
              " 'Wyatt Earp (1994)',\n",
              " 'Shadowlands (1993)',\n",
              " 'Michael Collins (1996)',\n",
              " 'Surviving Picasso (1996)',\n",
              " 'Private Parts (1997)',\n",
              " 'Artemisia (1997)',\n",
              " 'Kundun (1997)',\n",
              " 'Why Do Fools Fall In Love? (1998)',\n",
              " 'General, The (1998)',\n",
              " 'Mommie Dearest (1981)',\n",
              " 'Stand and Deliver (1988)',\n",
              " 'Steal This Movie! (2000)',\n",
              " 'Rembrandt (1936)',\n",
              " 'Tucker: The Man and His Dream (1988)',\n",
              " 'MacArthur (1977)',\n",
              " 'Piñero (2001)',\n",
              " 'Dragon: The Bruce Lee Story (1993)',\n",
              " 'Painted Fire (Chihwaseon) (2002)',\n",
              " 'Desert Fox, The (1951)',\n",
              " 'Luther (2003)',\n",
              " 'Brother Sun, Sister Moon (Fratello sole, sorella luna) (1972)',\n",
              " 'Lola Montès (1955)',\n",
              " 'Moulin Rouge (1952)',\n",
              " 'Krays, The (1990)',\n",
              " 'Trinity and Beyond (1995)',\n",
              " 'Libertine, The (2004)',\n",
              " 'Notorious Bettie Page, The (2005)',\n",
              " 'Fur: An Imaginary Portrait of Diane Arbus (2006)',\n",
              " 'Amazing Grace (2006)',\n",
              " \"Goya's Ghosts (2006)\",\n",
              " 'Talk to Me (2007)',\n",
              " 'Mongol (2007)',\n",
              " 'W. (2008)',\n",
              " 'Flash of Genius (2008)',\n",
              " 'Che: Part One (2008)',\n",
              " 'Che: Part Two (2008)',\n",
              " 'Divo, Il (2008)',\n",
              " 'Young Victoria, The (2009)',\n",
              " 'Séraphine (2008)',\n",
              " 'Coco Before Chanel (Coco avant Chanel) (2009)',\n",
              " 'Amelia (2009)',\n",
              " 'Creation (2009)',\n",
              " 'Nowhere Boy (2009)',\n",
              " 'Little Ashes (2008)',\n",
              " 'Gainsbourg (Vie Héroïque) (2010)',\n",
              " 'Carlos (2010)',\n",
              " \"Mao's Last Dancer (2009)\",\n",
              " 'Dangerous Method, A (2011)',\n",
              " 'J. Edgar (2011)',\n",
              " 'Lovelace (2013)',\n",
              " 'Ip Man: The Final Fight (2013)',\n",
              " 'Jobs (2013)',\n",
              " \"Lee Daniels' The Butler (2013)\",\n",
              " 'Mandela: Long Walk to Freedom (2013)',\n",
              " 'Yves Saint Laurent (2014)',\n",
              " 'Diana (2013)',\n",
              " 'American Sniper (2014)',\n",
              " 'Kill the Messenger (2014)',\n",
              " 'Big Eyes (2014)',\n",
              " 'Experimenter (2015)',\n",
              " 'Bogowie (2014)',\n",
              " 'The Walk (2015)',\n",
              " 'Joy (2015)',\n",
              " 'Steve Jobs: The Man in the Machine (2015)',\n",
              " 'Truth (2015)',\n",
              " 'Snowden (2016)',\n",
              " 'Denial (2016)',\n",
              " 'A United Kingdom (2016)',\n",
              " 'The Lost City of Z (2017)',\n",
              " 'American Made (2017)']"
            ]
          },
          "metadata": {
            "tags": []
          },
          "execution_count": 78
        }
      ]
    },
    {
      "cell_type": "markdown",
      "metadata": {
        "id": "IMUX5aYs6ijd"
      },
      "source": [
        "Все еще много рекомендаций, и непонятно какая из них наиболее предпочтительна. \n",
        "\n",
        "Если считать общий рейтинг фильма, например, на TMDB, тоже его внутренней характеристикой, то мы можем выдавать только фильмы с рейтингом не ниже 6.5 (по 10балльной шкале).\n",
        "\n",
        "Воспользуемся датасетом movies_metadata по movieLens. https://www.kaggle.com/rounakbanik/the-movies-dataset, где есть показатель vote_average."
      ]
    },
    {
      "cell_type": "code",
      "metadata": {
        "id": "f9esCkDaBCoP"
      },
      "source": [
        "downloaded = drive.CreateFile({'id':'15a_S2GFSdZHCZejSZVmqa5xxvVYOxUbO'}) \n",
        "downloaded.GetContentFile('movies_metadata.csv')\n",
        "movies_metadata = pd.read_csv('movies_metadata.csv')"
      ],
      "execution_count": null,
      "outputs": []
    },
    {
      "cell_type": "code",
      "metadata": {
        "id": "S5iMJ6uFHs-g",
        "colab": {
          "base_uri": "https://localhost:8080/",
          "height": 424
        },
        "outputId": "ab69e891-e541-4b66-c724-e311d447df58"
      },
      "source": [
        "movies_metadata.head(3)"
      ],
      "execution_count": null,
      "outputs": [
        {
          "output_type": "execute_result",
          "data": {
            "text/html": [
              "<div>\n",
              "<style scoped>\n",
              "    .dataframe tbody tr th:only-of-type {\n",
              "        vertical-align: middle;\n",
              "    }\n",
              "\n",
              "    .dataframe tbody tr th {\n",
              "        vertical-align: top;\n",
              "    }\n",
              "\n",
              "    .dataframe thead th {\n",
              "        text-align: right;\n",
              "    }\n",
              "</style>\n",
              "<table border=\"1\" class=\"dataframe\">\n",
              "  <thead>\n",
              "    <tr style=\"text-align: right;\">\n",
              "      <th></th>\n",
              "      <th>adult</th>\n",
              "      <th>belongs_to_collection</th>\n",
              "      <th>budget</th>\n",
              "      <th>genres</th>\n",
              "      <th>homepage</th>\n",
              "      <th>id</th>\n",
              "      <th>imdb_id</th>\n",
              "      <th>original_language</th>\n",
              "      <th>original_title</th>\n",
              "      <th>overview</th>\n",
              "      <th>popularity</th>\n",
              "      <th>poster_path</th>\n",
              "      <th>production_companies</th>\n",
              "      <th>production_countries</th>\n",
              "      <th>release_date</th>\n",
              "      <th>revenue</th>\n",
              "      <th>runtime</th>\n",
              "      <th>spoken_languages</th>\n",
              "      <th>status</th>\n",
              "      <th>tagline</th>\n",
              "      <th>title</th>\n",
              "      <th>video</th>\n",
              "      <th>vote_average</th>\n",
              "      <th>vote_count</th>\n",
              "    </tr>\n",
              "  </thead>\n",
              "  <tbody>\n",
              "    <tr>\n",
              "      <th>0</th>\n",
              "      <td>False</td>\n",
              "      <td>{'id': 10194, 'name': 'Toy Story Collection', ...</td>\n",
              "      <td>30000000</td>\n",
              "      <td>[{'id': 16, 'name': 'Animation'}, {'id': 35, '...</td>\n",
              "      <td>http://toystory.disney.com/toy-story</td>\n",
              "      <td>862</td>\n",
              "      <td>tt0114709</td>\n",
              "      <td>en</td>\n",
              "      <td>Toy Story</td>\n",
              "      <td>Led by Woody, Andy's toys live happily in his ...</td>\n",
              "      <td>21.9469</td>\n",
              "      <td>/rhIRbceoE9lR4veEXuwCC2wARtG.jpg</td>\n",
              "      <td>[{'name': 'Pixar Animation Studios', 'id': 3}]</td>\n",
              "      <td>[{'iso_3166_1': 'US', 'name': 'United States o...</td>\n",
              "      <td>1995-10-30</td>\n",
              "      <td>373554033.0</td>\n",
              "      <td>81.0</td>\n",
              "      <td>[{'iso_639_1': 'en', 'name': 'English'}]</td>\n",
              "      <td>Released</td>\n",
              "      <td>NaN</td>\n",
              "      <td>Toy Story</td>\n",
              "      <td>False</td>\n",
              "      <td>7.7</td>\n",
              "      <td>5415.0</td>\n",
              "    </tr>\n",
              "    <tr>\n",
              "      <th>1</th>\n",
              "      <td>False</td>\n",
              "      <td>NaN</td>\n",
              "      <td>65000000</td>\n",
              "      <td>[{'id': 12, 'name': 'Adventure'}, {'id': 14, '...</td>\n",
              "      <td>NaN</td>\n",
              "      <td>8844</td>\n",
              "      <td>tt0113497</td>\n",
              "      <td>en</td>\n",
              "      <td>Jumanji</td>\n",
              "      <td>When siblings Judy and Peter discover an encha...</td>\n",
              "      <td>17.0155</td>\n",
              "      <td>/vzmL6fP7aPKNKPRTFnZmiUfciyV.jpg</td>\n",
              "      <td>[{'name': 'TriStar Pictures', 'id': 559}, {'na...</td>\n",
              "      <td>[{'iso_3166_1': 'US', 'name': 'United States o...</td>\n",
              "      <td>1995-12-15</td>\n",
              "      <td>262797249.0</td>\n",
              "      <td>104.0</td>\n",
              "      <td>[{'iso_639_1': 'en', 'name': 'English'}, {'iso...</td>\n",
              "      <td>Released</td>\n",
              "      <td>Roll the dice and unleash the excitement!</td>\n",
              "      <td>Jumanji</td>\n",
              "      <td>False</td>\n",
              "      <td>6.9</td>\n",
              "      <td>2413.0</td>\n",
              "    </tr>\n",
              "    <tr>\n",
              "      <th>2</th>\n",
              "      <td>False</td>\n",
              "      <td>{'id': 119050, 'name': 'Grumpy Old Men Collect...</td>\n",
              "      <td>0</td>\n",
              "      <td>[{'id': 10749, 'name': 'Romance'}, {'id': 35, ...</td>\n",
              "      <td>NaN</td>\n",
              "      <td>15602</td>\n",
              "      <td>tt0113228</td>\n",
              "      <td>en</td>\n",
              "      <td>Grumpier Old Men</td>\n",
              "      <td>A family wedding reignites the ancient feud be...</td>\n",
              "      <td>11.7129</td>\n",
              "      <td>/6ksm1sjKMFLbO7UY2i6G1ju9SML.jpg</td>\n",
              "      <td>[{'name': 'Warner Bros.', 'id': 6194}, {'name'...</td>\n",
              "      <td>[{'iso_3166_1': 'US', 'name': 'United States o...</td>\n",
              "      <td>1995-12-22</td>\n",
              "      <td>0.0</td>\n",
              "      <td>101.0</td>\n",
              "      <td>[{'iso_639_1': 'en', 'name': 'English'}]</td>\n",
              "      <td>Released</td>\n",
              "      <td>Still Yelling. Still Fighting. Still Ready for...</td>\n",
              "      <td>Grumpier Old Men</td>\n",
              "      <td>False</td>\n",
              "      <td>6.5</td>\n",
              "      <td>92.0</td>\n",
              "    </tr>\n",
              "  </tbody>\n",
              "</table>\n",
              "</div>"
            ],
            "text/plain": [
              "   adult  ... vote_count\n",
              "0  False  ...     5415.0\n",
              "1  False  ...     2413.0\n",
              "2  False  ...       92.0\n",
              "\n",
              "[3 rows x 24 columns]"
            ]
          },
          "metadata": {
            "tags": []
          },
          "execution_count": 80
        }
      ]
    },
    {
      "cell_type": "code",
      "metadata": {
        "id": "1FkbOSvxKtBQ"
      },
      "source": [
        "tmdb_rating = movies_metadata[['id', 'vote_average']]\n",
        "tmdb_rating = tmdb_rating.rename(columns = {'id':'movieId'})"
      ],
      "execution_count": null,
      "outputs": []
    },
    {
      "cell_type": "markdown",
      "metadata": {
        "id": "l5t9euHDM39H"
      },
      "source": [
        "Оставляем только фильмы со средним рейтингом выше 6.5. И согласно нему выдаем рекомендации.\n"
      ]
    },
    {
      "cell_type": "code",
      "metadata": {
        "id": "XnWl-oxeNSx6"
      },
      "source": [
        "top_tmdb_rating = tmdb_rating[tmdb_rating.vote_average >= 6.5]\n",
        "top_tmdb_rating = top_tmdb_rating.apply(lambda col:pd.to_numeric(col, errors='coerce'))"
      ],
      "execution_count": null,
      "outputs": []
    },
    {
      "cell_type": "code",
      "metadata": {
        "id": "chFeNTtKQiTP"
      },
      "source": [
        "movies_with_tags = pd.merge(movies_with_tags, top_tmdb_rating)"
      ],
      "execution_count": null,
      "outputs": []
    },
    {
      "cell_type": "code",
      "metadata": {
        "id": "_gkWbqauZ51z",
        "colab": {
          "base_uri": "https://localhost:8080/",
          "height": 406
        },
        "outputId": "9cc11133-2923-447b-f3a7-c73428449270"
      },
      "source": [
        "movies_with_tags"
      ],
      "execution_count": null,
      "outputs": [
        {
          "output_type": "execute_result",
          "data": {
            "text/html": [
              "<div>\n",
              "<style scoped>\n",
              "    .dataframe tbody tr th:only-of-type {\n",
              "        vertical-align: middle;\n",
              "    }\n",
              "\n",
              "    .dataframe tbody tr th {\n",
              "        vertical-align: top;\n",
              "    }\n",
              "\n",
              "    .dataframe thead th {\n",
              "        text-align: right;\n",
              "    }\n",
              "</style>\n",
              "<table border=\"1\" class=\"dataframe\">\n",
              "  <thead>\n",
              "    <tr style=\"text-align: right;\">\n",
              "      <th></th>\n",
              "      <th>movieId</th>\n",
              "      <th>title</th>\n",
              "      <th>relevance</th>\n",
              "      <th>tag</th>\n",
              "      <th>vote_average</th>\n",
              "    </tr>\n",
              "  </thead>\n",
              "  <tbody>\n",
              "    <tr>\n",
              "      <th>0</th>\n",
              "      <td>2</td>\n",
              "      <td>Jumanji (1995)</td>\n",
              "      <td>0.97600</td>\n",
              "      <td>adventure</td>\n",
              "      <td>7.1</td>\n",
              "    </tr>\n",
              "    <tr>\n",
              "      <th>1</th>\n",
              "      <td>2</td>\n",
              "      <td>Jumanji (1995)</td>\n",
              "      <td>0.86725</td>\n",
              "      <td>animals</td>\n",
              "      <td>7.1</td>\n",
              "    </tr>\n",
              "    <tr>\n",
              "      <th>2</th>\n",
              "      <td>2</td>\n",
              "      <td>Jumanji (1995)</td>\n",
              "      <td>0.81750</td>\n",
              "      <td>based on a book</td>\n",
              "      <td>7.1</td>\n",
              "    </tr>\n",
              "    <tr>\n",
              "      <th>3</th>\n",
              "      <td>2</td>\n",
              "      <td>Jumanji (1995)</td>\n",
              "      <td>0.77525</td>\n",
              "      <td>big budget</td>\n",
              "      <td>7.1</td>\n",
              "    </tr>\n",
              "    <tr>\n",
              "      <th>4</th>\n",
              "      <td>2</td>\n",
              "      <td>Jumanji (1995)</td>\n",
              "      <td>0.86850</td>\n",
              "      <td>childhood</td>\n",
              "      <td>7.1</td>\n",
              "    </tr>\n",
              "    <tr>\n",
              "      <th>...</th>\n",
              "      <td>...</td>\n",
              "      <td>...</td>\n",
              "      <td>...</td>\n",
              "      <td>...</td>\n",
              "      <td>...</td>\n",
              "    </tr>\n",
              "    <tr>\n",
              "      <th>42471</th>\n",
              "      <td>198185</td>\n",
              "      <td>Twin Peaks (1989)</td>\n",
              "      <td>0.95925</td>\n",
              "      <td>weird</td>\n",
              "      <td>6.6</td>\n",
              "    </tr>\n",
              "    <tr>\n",
              "      <th>42472</th>\n",
              "      <td>201749</td>\n",
              "      <td>Murder Mystery (2019)</td>\n",
              "      <td>0.68950</td>\n",
              "      <td>comedy</td>\n",
              "      <td>6.9</td>\n",
              "    </tr>\n",
              "    <tr>\n",
              "      <th>42473</th>\n",
              "      <td>201749</td>\n",
              "      <td>Murder Mystery (2019)</td>\n",
              "      <td>0.69075</td>\n",
              "      <td>family</td>\n",
              "      <td>6.9</td>\n",
              "    </tr>\n",
              "    <tr>\n",
              "      <th>42474</th>\n",
              "      <td>201749</td>\n",
              "      <td>Murder Mystery (2019)</td>\n",
              "      <td>0.77400</td>\n",
              "      <td>goofy</td>\n",
              "      <td>6.9</td>\n",
              "    </tr>\n",
              "    <tr>\n",
              "      <th>42475</th>\n",
              "      <td>201749</td>\n",
              "      <td>Murder Mystery (2019)</td>\n",
              "      <td>0.68200</td>\n",
              "      <td>original</td>\n",
              "      <td>6.9</td>\n",
              "    </tr>\n",
              "  </tbody>\n",
              "</table>\n",
              "<p>42476 rows × 5 columns</p>\n",
              "</div>"
            ],
            "text/plain": [
              "       movieId                  title  relevance              tag  vote_average\n",
              "0            2         Jumanji (1995)    0.97600        adventure           7.1\n",
              "1            2         Jumanji (1995)    0.86725          animals           7.1\n",
              "2            2         Jumanji (1995)    0.81750  based on a book           7.1\n",
              "3            2         Jumanji (1995)    0.77525       big budget           7.1\n",
              "4            2         Jumanji (1995)    0.86850        childhood           7.1\n",
              "...        ...                    ...        ...              ...           ...\n",
              "42471   198185      Twin Peaks (1989)    0.95925            weird           6.6\n",
              "42472   201749  Murder Mystery (2019)    0.68950           comedy           6.9\n",
              "42473   201749  Murder Mystery (2019)    0.69075           family           6.9\n",
              "42474   201749  Murder Mystery (2019)    0.77400            goofy           6.9\n",
              "42475   201749  Murder Mystery (2019)    0.68200         original           6.9\n",
              "\n",
              "[42476 rows x 5 columns]"
            ]
          },
          "metadata": {
            "tags": []
          },
          "execution_count": 84
        }
      ]
    },
    {
      "cell_type": "code",
      "metadata": {
        "id": "rp1OhEpJMy7G"
      },
      "source": [
        "final_recommendations = {}\n",
        "\n",
        "for i in movies_with_tags:\n",
        "   for index, row in movies_with_tags.iterrows():\n",
        "           if row['movieId'] not in user_movies and row['tag'] in user_tags:\n",
        "               final_recommendations[row['title']] = row['tag']"
      ],
      "execution_count": null,
      "outputs": []
    },
    {
      "cell_type": "code",
      "metadata": {
        "id": "3yvBIkQWURGR",
        "colab": {
          "base_uri": "https://localhost:8080/"
        },
        "outputId": "ed1385c5-4cec-4581-b196-ab9a81dea600"
      },
      "source": [
        "len(final_recommendations)"
      ],
      "execution_count": null,
      "outputs": [
        {
          "output_type": "execute_result",
          "data": {
            "text/plain": [
              "912"
            ]
          },
          "metadata": {
            "tags": []
          },
          "execution_count": 86
        }
      ]
    },
    {
      "cell_type": "markdown",
      "metadata": {
        "id": "F21Xq7dhaiYK"
      },
      "source": [
        "Уже лучше, посмотрим как теперь выглядит наш список по тому же тегу."
      ]
    },
    {
      "cell_type": "code",
      "metadata": {
        "id": "MLg0_cw2ahhJ",
        "colab": {
          "base_uri": "https://localhost:8080/"
        },
        "outputId": "735243fb-95c0-4038-b244-8938f701c546"
      },
      "source": [
        "get_film(final_recommendations, user_tags[0])"
      ],
      "execution_count": null,
      "outputs": [
        {
          "output_type": "execute_result",
          "data": {
            "text/plain": [
              "['Kundun (1997)',\n",
              " 'Mommie Dearest (1981)',\n",
              " 'MacArthur (1977)',\n",
              " 'Dragon: The Bruce Lee Story (1993)',\n",
              " \"Goya's Ghosts (2006)\",\n",
              " 'W. (2008)',\n",
              " 'Che: Part One (2008)',\n",
              " 'Séraphine (2008)',\n",
              " 'Little Ashes (2008)',\n",
              " 'Yves Saint Laurent (2014)']"
            ]
          },
          "metadata": {
            "tags": []
          },
          "execution_count": 87
        }
      ]
    },
    {
      "cell_type": "markdown",
      "metadata": {
        "id": "IbifqhgKbDZ4"
      },
      "source": [
        "Content-based рекомендации можно развивать и далее, учитывая жанры и другие метаданные (например, не average vote, а popularity)."
      ]
    }
  ]
}
